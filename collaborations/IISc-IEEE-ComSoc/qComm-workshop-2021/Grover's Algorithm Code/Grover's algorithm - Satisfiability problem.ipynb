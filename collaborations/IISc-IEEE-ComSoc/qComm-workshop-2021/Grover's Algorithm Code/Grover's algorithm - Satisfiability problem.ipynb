{
 "cells": [
  {
   "cell_type": "markdown",
   "metadata": {},
   "source": [
    "# Grover's algorithm for 4 qubits (ex: finding the entry 1010)"
   ]
  },
  {
   "cell_type": "markdown",
   "metadata": {},
   "source": [
    "## Building our circuit and equal superposition initialization\n",
    "\n",
    "Let's build our circuit with 7 qubits \n",
    "* 4 qubits for input\n",
    "* 1 qubit for storing the |-> state\n",
    "* 2 ancilla qubits (as will be explained bellow)\n",
    "\n",
    "And our answer will be stored in a classical register of size 4 \n",
    "\n",
    "Further, we intialize our input in an equal superposition of all possible states"
   ]
  },
  {
   "cell_type": "code",
   "execution_count": 1,
   "metadata": {},
   "outputs": [],
   "source": [
    "# run this cell if you dont have qiskit intsalled yet\n",
    "!pip install qiskit==0.20.0\n",
    "from IPython.display import clear_output\n",
    "clear_output()"
   ]
  },
  {
   "cell_type": "code",
   "execution_count": 2,
   "metadata": {},
   "outputs": [],
   "source": [
    "#initialization\n",
    "import matplotlib.pyplot as plt\n",
    "%matplotlib inline\n",
    "import numpy as np\n",
    "\n",
    "# importing Qiskit\n",
    "from qiskit import IBMQ, BasicAer, Aer\n",
    "from qiskit.providers.ibmq import least_busy\n",
    "from qiskit import QuantumCircuit, ClassicalRegister, QuantumRegister, execute\n",
    "\n",
    "# import basic plot tools\n",
    "from qiskit.tools.visualization import plot_histogram"
   ]
  },
  {
   "cell_type": "markdown",
   "metadata": {},
   "source": [
    "## Let's start building the circuit "
   ]
  },
  {
   "cell_type": "code",
   "execution_count": 3,
   "metadata": {},
   "outputs": [],
   "source": [
    "q = QuantumRegister(7)\n",
    "c = ClassicalRegister(4)\n",
    "qc = QuantumCircuit(q, c)"
   ]
  },
  {
   "cell_type": "code",
   "execution_count": 4,
   "metadata": {},
   "outputs": [
    {
     "data": {
      "text/html": [
       "<pre style=\"word-wrap: normal;white-space: pre;background: #fff0;line-height: 1.1;font-family: &quot;Courier New&quot;,Courier,monospace\">      ┌───┐      ░ \n",
       "q0_0: ┤ H ├──────░─\n",
       "      ├───┤      ░ \n",
       "q0_1: ┤ H ├──────░─\n",
       "      ├───┤      ░ \n",
       "q0_2: ┤ H ├──────░─\n",
       "      ├───┤      ░ \n",
       "q0_3: ┤ H ├──────░─\n",
       "      ├───┤┌───┐ ░ \n",
       "q0_4: ┤ X ├┤ H ├─░─\n",
       "      └───┘└───┘ ░ \n",
       "q0_5: ───────────░─\n",
       "                 ░ \n",
       "q0_6: ───────────░─\n",
       "                 ░ \n",
       "c0: 4/═════════════\n",
       "                   </pre>"
      ],
      "text/plain": [
       "      ┌───┐      ░ \n",
       "q0_0: ┤ H ├──────░─\n",
       "      ├───┤      ░ \n",
       "q0_1: ┤ H ├──────░─\n",
       "      ├───┤      ░ \n",
       "q0_2: ┤ H ├──────░─\n",
       "      ├───┤      ░ \n",
       "q0_3: ┤ H ├──────░─\n",
       "      ├───┤┌───┐ ░ \n",
       "q0_4: ┤ X ├┤ H ├─░─\n",
       "      └───┘└───┘ ░ \n",
       "q0_5: ───────────░─\n",
       "                 ░ \n",
       "q0_6: ───────────░─\n",
       "                 ░ \n",
       "c0: 4/═════════════\n",
       "                   "
      ]
     },
     "execution_count": 4,
     "metadata": {},
     "output_type": "execute_result"
    }
   ],
   "source": [
    "# initialize in a superposition of all possible states \n",
    "qc.x(q[4])\n",
    "qc.h(q[0:5])\n",
    "qc.barrier(q)\n",
    "qc.draw()"
   ]
  },
  {
   "cell_type": "markdown",
   "metadata": {},
   "source": [
    "## Complete circuit diagram"
   ]
  },
  {
   "attachments": {
    "grovers_algo.png": {
     "image/png": "[encoded data removed]"
    }
   },
   "cell_type": "markdown",
   "metadata": {},
   "source": [
    "![grovers_algo.png](attachment:grovers_algo.png)"
   ]
  },
  {
   "cell_type": "markdown",
   "metadata": {},
   "source": [
    "<center>source: wikipedia</center>"
   ]
  },
  {
   "cell_type": "markdown",
   "metadata": {},
   "source": [
    "## Let's build the required oracle \n",
    "\n",
    "As an example I have built an oracle which check for the state |1010>\n",
    "\n",
    "The gate named as \"mct\" is a Multi CNOT gate similar to a generalized CNOT discussed in class. here is it's documentation: https://qiskit.org/documentation/api/qiskit.aqua.circuits.gates.mct.html\n",
    "\n",
    "We have to use a few ancilla qubits as which tend to follow the rule of \"n-2\" where \"n\" is the number of control qubits being used. we need 4 control qubits so we require 2 ancilla qubits. \n",
    "\n",
    "Another set of gates being used below are U1, U2 and U3. These are the physical gates that are implementatable on real hardware being provided by IBM Q services. Page 4 of https://arxiv.org/pdf/1807.01703.pdf paper has unitary matrix representation of these gates for your reference. "
   ]
  },
  {
   "cell_type": "code",
   "execution_count": 5,
   "metadata": {},
   "outputs": [
    {
     "data": {
      "text/html": [
       "<pre style=\"word-wrap: normal;white-space: pre;background: #fff0;line-height: 1.1;font-family: &quot;Courier New&quot;,Courier,monospace\">      ┌───┐      ░  ░       ░       ░       ░ \n",
       "q0_0: ┤ H ├──────░──░───────░───■───░───────░─\n",
       "      ├───┤      ░  ░ ┌───┐ ░   │   ░ ┌───┐ ░ \n",
       "q0_1: ┤ H ├──────░──░─┤ X ├─░───■───░─┤ X ├─░─\n",
       "      ├───┤      ░  ░ └───┘ ░   │   ░ └───┘ ░ \n",
       "q0_2: ┤ H ├──────░──░───────░───■───░───────░─\n",
       "      ├───┤      ░  ░ ┌───┐ ░   │   ░ ┌───┐ ░ \n",
       "q0_3: ┤ H ├──────░──░─┤ X ├─░───■───░─┤ X ├─░─\n",
       "      ├───┤┌───┐ ░  ░ └───┘ ░ ┌─┴─┐ ░ └───┘ ░ \n",
       "q0_4: ┤ X ├┤ H ├─░──░───────░─┤ X ├─░───────░─\n",
       "      └───┘└───┘ ░  ░       ░ └───┘ ░       ░ \n",
       "q0_5: ───────────░──░───────░───────░───────░─\n",
       "                 ░  ░       ░       ░       ░ \n",
       "q0_6: ───────────░──░───────░───────░───────░─\n",
       "                 ░  ░       ░       ░       ░ \n",
       "c0: 4/════════════════════════════════════════\n",
       "                                              </pre>"
      ],
      "text/plain": [
       "      ┌───┐      ░  ░       ░       ░       ░ \n",
       "q0_0: ┤ H ├──────░──░───────░───■───░───────░─\n",
       "      ├───┤      ░  ░ ┌───┐ ░   │   ░ ┌───┐ ░ \n",
       "q0_1: ┤ H ├──────░──░─┤ X ├─░───■───░─┤ X ├─░─\n",
       "      ├───┤      ░  ░ └───┘ ░   │   ░ └───┘ ░ \n",
       "q0_2: ┤ H ├──────░──░───────░───■───░───────░─\n",
       "      ├───┤      ░  ░ ┌───┐ ░   │   ░ ┌───┐ ░ \n",
       "q0_3: ┤ H ├──────░──░─┤ X ├─░───■───░─┤ X ├─░─\n",
       "      ├───┤┌───┐ ░  ░ └───┘ ░ ┌─┴─┐ ░ └───┘ ░ \n",
       "q0_4: ┤ X ├┤ H ├─░──░───────░─┤ X ├─░───────░─\n",
       "      └───┘└───┘ ░  ░       ░ └───┘ ░       ░ \n",
       "q0_5: ───────────░──░───────░───────░───────░─\n",
       "                 ░  ░       ░       ░       ░ \n",
       "q0_6: ───────────░──░───────░───────░───────░─\n",
       "                 ░  ░       ░       ░       ░ \n",
       "c0: 4/════════════════════════════════════════\n",
       "                                              "
      ]
     },
     "execution_count": 5,
     "metadata": {},
     "output_type": "execute_result"
    }
   ],
   "source": [
    "qc.barrier(q)\n",
    "\n",
    "# build oracle. ex: to find 1010 state\n",
    "qc.x(q[1])\n",
    "qc.x(q[3])\n",
    "qc.barrier(q)\n",
    "qc.mct([q[0], q[1], q[2], q[3]], q[4], q[5:7])    # control qubits, target qubit, ancilla qubits = number of control qubits - 2\n",
    "qc.barrier(q)\n",
    "qc.x(q[1])\n",
    "qc.x(q[3])\n",
    "\n",
    "qc.barrier(q)\n",
    "qc.draw()"
   ]
  },
  {
   "cell_type": "markdown",
   "metadata": {},
   "source": [
    "## Amplitude Amplification (Diffusion Operator)\n",
    "\n",
    "this is equivalent to flip about the mean operation geometrically. Also known as the amplitude amplification step as we are increasing the amplitudes(probability) of the entries that we flipped(gave a - phase to) in the previous step while applying our oracle. "
   ]
  },
  {
   "cell_type": "code",
   "execution_count": 6,
   "metadata": {},
   "outputs": [
    {
     "data": {
      "text/html": [
       "<pre style=\"word-wrap: normal;white-space: pre;background: #fff0;line-height: 1.1;font-family: &quot;Courier New&quot;,Courier,monospace\">      ┌───┐      ░  ░       ░       ░       ░  ░ ┌───┐┌───┐ ░       ░       ░ »\n",
       "q0_0: ┤ H ├──────░──░───────░───■───░───────░──░─┤ H ├┤ X ├─░───────░───■───░─»\n",
       "      ├───┤      ░  ░ ┌───┐ ░   │   ░ ┌───┐ ░  ░ ├───┤├───┤ ░       ░   │   ░ »\n",
       "q0_1: ┤ H ├──────░──░─┤ X ├─░───■───░─┤ X ├─░──░─┤ H ├┤ X ├─░───────░───■───░─»\n",
       "      ├───┤      ░  ░ └───┘ ░   │   ░ └───┘ ░  ░ ├───┤├───┤ ░       ░   │   ░ »\n",
       "q0_2: ┤ H ├──────░──░───────░───■───░───────░──░─┤ H ├┤ X ├─░───────░───■───░─»\n",
       "      ├───┤      ░  ░ ┌───┐ ░   │   ░ ┌───┐ ░  ░ ├───┤├───┤ ░ ┌───┐ ░ ┌─┴─┐ ░ »\n",
       "q0_3: ┤ H ├──────░──░─┤ X ├─░───■───░─┤ X ├─░──░─┤ H ├┤ X ├─░─┤ H ├─░─┤ X ├─░─»\n",
       "      ├───┤┌───┐ ░  ░ └───┘ ░ ┌─┴─┐ ░ └───┘ ░  ░ └───┘└───┘ ░ └───┘ ░ └───┘ ░ »\n",
       "q0_4: ┤ X ├┤ H ├─░──░───────░─┤ X ├─░───────░──░────────────░───────░───────░─»\n",
       "      └───┘└───┘ ░  ░       ░ └───┘ ░       ░  ░            ░       ░       ░ »\n",
       "q0_5: ───────────░──░───────░───────░───────░──░────────────░───────░───────░─»\n",
       "                 ░  ░       ░       ░       ░  ░            ░       ░       ░ »\n",
       "q0_6: ───────────░──░───────░───────░───────░──░────────────░───────░───────░─»\n",
       "                 ░  ░       ░       ░       ░  ░            ░       ░       ░ »\n",
       "c0: 4/════════════════════════════════════════════════════════════════════════»\n",
       "                                                                              »\n",
       "«            ░ ┌───┐┌───┐ ░ \n",
       "«q0_0: ──────░─┤ X ├┤ H ├─░─\n",
       "«            ░ ├───┤├───┤ ░ \n",
       "«q0_1: ──────░─┤ X ├┤ H ├─░─\n",
       "«            ░ ├───┤├───┤ ░ \n",
       "«q0_2: ──────░─┤ X ├┤ H ├─░─\n",
       "«      ┌───┐ ░ ├───┤├───┤ ░ \n",
       "«q0_3: ┤ H ├─░─┤ X ├┤ H ├─░─\n",
       "«      └───┘ ░ └───┘└───┘ ░ \n",
       "«q0_4: ──────░────────────░─\n",
       "«            ░            ░ \n",
       "«q0_5: ──────░────────────░─\n",
       "«            ░            ░ \n",
       "«q0_6: ──────░────────────░─\n",
       "«            ░            ░ \n",
       "«c0: 4/═════════════════════\n",
       "«                           </pre>"
      ],
      "text/plain": [
       "      ┌───┐      ░  ░       ░       ░       ░  ░ ┌───┐┌───┐ ░       ░       ░ »\n",
       "q0_0: ┤ H ├──────░──░───────░───■───░───────░──░─┤ H ├┤ X ├─░───────░───■───░─»\n",
       "      ├───┤      ░  ░ ┌───┐ ░   │   ░ ┌───┐ ░  ░ ├───┤├───┤ ░       ░   │   ░ »\n",
       "q0_1: ┤ H ├──────░──░─┤ X ├─░───■───░─┤ X ├─░──░─┤ H ├┤ X ├─░───────░───■───░─»\n",
       "      ├───┤      ░  ░ └───┘ ░   │   ░ └───┘ ░  ░ ├───┤├───┤ ░       ░   │   ░ »\n",
       "q0_2: ┤ H ├──────░──░───────░───■───░───────░──░─┤ H ├┤ X ├─░───────░───■───░─»\n",
       "      ├───┤      ░  ░ ┌───┐ ░   │   ░ ┌───┐ ░  ░ ├───┤├───┤ ░ ┌───┐ ░ ┌─┴─┐ ░ »\n",
       "q0_3: ┤ H ├──────░──░─┤ X ├─░───■───░─┤ X ├─░──░─┤ H ├┤ X ├─░─┤ H ├─░─┤ X ├─░─»\n",
       "      ├───┤┌───┐ ░  ░ └───┘ ░ ┌─┴─┐ ░ └───┘ ░  ░ └───┘└───┘ ░ └───┘ ░ └───┘ ░ »\n",
       "q0_4: ┤ X ├┤ H ├─░──░───────░─┤ X ├─░───────░──░────────────░───────░───────░─»\n",
       "      └───┘└───┘ ░  ░       ░ └───┘ ░       ░  ░            ░       ░       ░ »\n",
       "q0_5: ───────────░──░───────░───────░───────░──░────────────░───────░───────░─»\n",
       "                 ░  ░       ░       ░       ░  ░            ░       ░       ░ »\n",
       "q0_6: ───────────░──░───────░───────░───────░──░────────────░───────░───────░─»\n",
       "                 ░  ░       ░       ░       ░  ░            ░       ░       ░ »\n",
       "c0: 4/════════════════════════════════════════════════════════════════════════»\n",
       "                                                                              »\n",
       "«            ░ ┌───┐┌───┐ ░ \n",
       "«q0_0: ──────░─┤ X ├┤ H ├─░─\n",
       "«            ░ ├───┤├───┤ ░ \n",
       "«q0_1: ──────░─┤ X ├┤ H ├─░─\n",
       "«            ░ ├───┤├───┤ ░ \n",
       "«q0_2: ──────░─┤ X ├┤ H ├─░─\n",
       "«      ┌───┐ ░ ├───┤├───┤ ░ \n",
       "«q0_3: ┤ H ├─░─┤ X ├┤ H ├─░─\n",
       "«      └───┘ ░ └───┘└───┘ ░ \n",
       "«q0_4: ──────░────────────░─\n",
       "«            ░            ░ \n",
       "«q0_5: ──────░────────────░─\n",
       "«            ░            ░ \n",
       "«q0_6: ──────░────────────░─\n",
       "«            ░            ░ \n",
       "«c0: 4/═════════════════════\n",
       "«                           "
      ]
     },
     "execution_count": 6,
     "metadata": {},
     "output_type": "execute_result"
    }
   ],
   "source": [
    "qc.barrier(q)\n",
    "qc.h(q[0:4])\n",
    "qc.x(q[0:4])\n",
    "qc.barrier(q)\n",
    "qc.h(q[3])\n",
    "qc.barrier(q)\n",
    "qc.mct([q[0], q[1], q[2]], q[3], q[5:6])   \n",
    "qc.barrier(q)\n",
    "qc.h(q[3])\n",
    "qc.barrier(q)\n",
    "qc.x(q[0:4])\n",
    "qc.h(q[0:4])\n",
    "qc.barrier(q)\n",
    "qc.draw()"
   ]
  },
  {
   "cell_type": "markdown",
   "metadata": {},
   "source": [
    "## Adding measurements "
   ]
  },
  {
   "cell_type": "code",
   "execution_count": 7,
   "metadata": {},
   "outputs": [
    {
     "data": {
      "text/html": [
       "<pre style=\"word-wrap: normal;white-space: pre;background: #fff0;line-height: 1.1;font-family: &quot;Courier New&quot;,Courier,monospace\">      ┌───┐      ░  ░       ░       ░       ░  ░ ┌───┐┌───┐ ░       ░       ░ »\n",
       "q0_0: ┤ H ├──────░──░───────░───■───░───────░──░─┤ H ├┤ X ├─░───────░───■───░─»\n",
       "      ├───┤      ░  ░ ┌───┐ ░   │   ░ ┌───┐ ░  ░ ├───┤├───┤ ░       ░   │   ░ »\n",
       "q0_1: ┤ H ├──────░──░─┤ X ├─░───■───░─┤ X ├─░──░─┤ H ├┤ X ├─░───────░───■───░─»\n",
       "      ├───┤      ░  ░ └───┘ ░   │   ░ └───┘ ░  ░ ├───┤├───┤ ░       ░   │   ░ »\n",
       "q0_2: ┤ H ├──────░──░───────░───■───░───────░──░─┤ H ├┤ X ├─░───────░───■───░─»\n",
       "      ├───┤      ░  ░ ┌───┐ ░   │   ░ ┌───┐ ░  ░ ├───┤├───┤ ░ ┌───┐ ░ ┌─┴─┐ ░ »\n",
       "q0_3: ┤ H ├──────░──░─┤ X ├─░───■───░─┤ X ├─░──░─┤ H ├┤ X ├─░─┤ H ├─░─┤ X ├─░─»\n",
       "      ├───┤┌───┐ ░  ░ └───┘ ░ ┌─┴─┐ ░ └───┘ ░  ░ └───┘└───┘ ░ └───┘ ░ └───┘ ░ »\n",
       "q0_4: ┤ X ├┤ H ├─░──░───────░─┤ X ├─░───────░──░────────────░───────░───────░─»\n",
       "      └───┘└───┘ ░  ░       ░ └───┘ ░       ░  ░            ░       ░       ░ »\n",
       "q0_5: ───────────░──░───────░───────░───────░──░────────────░───────░───────░─»\n",
       "                 ░  ░       ░       ░       ░  ░            ░       ░       ░ »\n",
       "q0_6: ───────────░──░───────░───────░───────░──░────────────░───────░───────░─»\n",
       "                 ░  ░       ░       ░       ░  ░            ░       ░       ░ »\n",
       "c0: 4/════════════════════════════════════════════════════════════════════════»\n",
       "                                                                              »\n",
       "«            ░ ┌───┐┌───┐ ░ ┌─┐         \n",
       "«q0_0: ──────░─┤ X ├┤ H ├─░─┤M├─────────\n",
       "«            ░ ├───┤├───┤ ░ └╥┘┌─┐      \n",
       "«q0_1: ──────░─┤ X ├┤ H ├─░──╫─┤M├──────\n",
       "«            ░ ├───┤├───┤ ░  ║ └╥┘┌─┐   \n",
       "«q0_2: ──────░─┤ X ├┤ H ├─░──╫──╫─┤M├───\n",
       "«      ┌───┐ ░ ├───┤├───┤ ░  ║  ║ └╥┘┌─┐\n",
       "«q0_3: ┤ H ├─░─┤ X ├┤ H ├─░──╫──╫──╫─┤M├\n",
       "«      └───┘ ░ └───┘└───┘ ░  ║  ║  ║ └╥┘\n",
       "«q0_4: ──────░────────────░──╫──╫──╫──╫─\n",
       "«            ░            ░  ║  ║  ║  ║ \n",
       "«q0_5: ──────░────────────░──╫──╫──╫──╫─\n",
       "«            ░            ░  ║  ║  ║  ║ \n",
       "«q0_6: ──────░────────────░──╫──╫──╫──╫─\n",
       "«            ░            ░  ║  ║  ║  ║ \n",
       "«c0: 4/══════════════════════╩══╩══╩══╩═\n",
       "«                            0  1  2  3 </pre>"
      ],
      "text/plain": [
       "      ┌───┐      ░  ░       ░       ░       ░  ░ ┌───┐┌───┐ ░       ░       ░ »\n",
       "q0_0: ┤ H ├──────░──░───────░───■───░───────░──░─┤ H ├┤ X ├─░───────░───■───░─»\n",
       "      ├───┤      ░  ░ ┌───┐ ░   │   ░ ┌───┐ ░  ░ ├───┤├───┤ ░       ░   │   ░ »\n",
       "q0_1: ┤ H ├──────░──░─┤ X ├─░───■───░─┤ X ├─░──░─┤ H ├┤ X ├─░───────░───■───░─»\n",
       "      ├───┤      ░  ░ └───┘ ░   │   ░ └───┘ ░  ░ ├───┤├───┤ ░       ░   │   ░ »\n",
       "q0_2: ┤ H ├──────░──░───────░───■───░───────░──░─┤ H ├┤ X ├─░───────░───■───░─»\n",
       "      ├───┤      ░  ░ ┌───┐ ░   │   ░ ┌───┐ ░  ░ ├───┤├───┤ ░ ┌───┐ ░ ┌─┴─┐ ░ »\n",
       "q0_3: ┤ H ├──────░──░─┤ X ├─░───■───░─┤ X ├─░──░─┤ H ├┤ X ├─░─┤ H ├─░─┤ X ├─░─»\n",
       "      ├───┤┌───┐ ░  ░ └───┘ ░ ┌─┴─┐ ░ └───┘ ░  ░ └───┘└───┘ ░ └───┘ ░ └───┘ ░ »\n",
       "q0_4: ┤ X ├┤ H ├─░──░───────░─┤ X ├─░───────░──░────────────░───────░───────░─»\n",
       "      └───┘└───┘ ░  ░       ░ └───┘ ░       ░  ░            ░       ░       ░ »\n",
       "q0_5: ───────────░──░───────░───────░───────░──░────────────░───────░───────░─»\n",
       "                 ░  ░       ░       ░       ░  ░            ░       ░       ░ »\n",
       "q0_6: ───────────░──░───────░───────░───────░──░────────────░───────░───────░─»\n",
       "                 ░  ░       ░       ░       ░  ░            ░       ░       ░ »\n",
       "c0: 4/════════════════════════════════════════════════════════════════════════»\n",
       "                                                                              »\n",
       "«            ░ ┌───┐┌───┐ ░ ┌─┐         \n",
       "«q0_0: ──────░─┤ X ├┤ H ├─░─┤M├─────────\n",
       "«            ░ ├───┤├───┤ ░ └╥┘┌─┐      \n",
       "«q0_1: ──────░─┤ X ├┤ H ├─░──╫─┤M├──────\n",
       "«            ░ ├───┤├───┤ ░  ║ └╥┘┌─┐   \n",
       "«q0_2: ──────░─┤ X ├┤ H ├─░──╫──╫─┤M├───\n",
       "«      ┌───┐ ░ ├───┤├───┤ ░  ║  ║ └╥┘┌─┐\n",
       "«q0_3: ┤ H ├─░─┤ X ├┤ H ├─░──╫──╫──╫─┤M├\n",
       "«      └───┘ ░ └───┘└───┘ ░  ║  ║  ║ └╥┘\n",
       "«q0_4: ──────░────────────░──╫──╫──╫──╫─\n",
       "«            ░            ░  ║  ║  ║  ║ \n",
       "«q0_5: ──────░────────────░──╫──╫──╫──╫─\n",
       "«            ░            ░  ║  ║  ║  ║ \n",
       "«q0_6: ──────░────────────░──╫──╫──╫──╫─\n",
       "«            ░            ░  ║  ║  ║  ║ \n",
       "«c0: 4/══════════════════════╩══╩══╩══╩═\n",
       "«                            0  1  2  3 "
      ]
     },
     "execution_count": 7,
     "metadata": {},
     "output_type": "execute_result"
    }
   ],
   "source": [
    "qc.measure(q[0:4], c[0:4])\n",
    "qc.draw()"
   ]
  },
  {
   "cell_type": "markdown",
   "metadata": {},
   "source": [
    "In case you would like to learn more about how the `mct()` gate, i.e, the multiple controlled toffoli gate is decomposed you can check out section [this](https://arxiv.org/pdf/quant-ph/9503016.pdf) paper "
   ]
  },
  {
   "cell_type": "markdown",
   "metadata": {},
   "source": [
    "## Checking our results after running it on a simulator\n",
    "\n",
    "Note that we have not yet used a real quantum computer as they as noisy. We could however do so by changing our provider from 'ibmq_qasm_simulator' to the hardware backend you like. "
   ]
  },
  {
   "cell_type": "code",
   "execution_count": 8,
   "metadata": {},
   "outputs": [
    {
     "name": "stdout",
     "output_type": "stream",
     "text": [
      "{'0000': 49, '0001': 34, '0010': 35, '0011': 35, '0100': 35, '0101': 475, '0110': 37, '0111': 29, '1000': 32, '1001': 40, '1010': 33, '1011': 35, '1100': 27, '1101': 34, '1110': 32, '1111': 38}\n"
     ]
    }
   ],
   "source": [
    "# running and getting results \n",
    "\n",
    "backend = Aer.get_backend('qasm_simulator')\n",
    "job = execute(qc, backend, shots=1000)\n",
    "\n",
    "# if you would like to use the wasm simulator on the cloud then comment the above lines and uncomment the lines below \n",
    "# backend = provider.get_backend('ibmq_qasm_simulator')\n",
    "# job = execute(qc, backend=backend, shots=8000, seed_simulator=12345, backend_options={\"fusion_enable\":True})\n",
    "result = job.result()\n",
    "count = result.get_counts()\n",
    "print(count)"
   ]
  },
  {
   "cell_type": "code",
   "execution_count": 9,
   "metadata": {},
   "outputs": [],
   "source": [
    "# the code snippet below can be used to retreive your job in case your jupyter notebook loses connection with IBMQ servers before completion of the job\n",
    "\n",
    "# backend = provider.get_backend('ibmq_qasm_simulator')\n",
    "# job = backend.retrieve_job('enter your job id here. it can be found in your IBM Q Experience dashboard')\n",
    "# counts = job.result().get_counts()\n",
    "# print(counts)"
   ]
  },
  {
   "cell_type": "code",
   "execution_count": 10,
   "metadata": {},
   "outputs": [
    {
     "data": {
      "image/png": "[encoded data removed]",
      "text/plain": [
       "<Figure size 504x360 with 1 Axes>"
      ]
     },
     "execution_count": 10,
     "metadata": {},
     "output_type": "execute_result"
    }
   ],
   "source": [
    "plot_histogram(count)\n",
    "\n",
    "# the answer may seem inverted, i.e, 0101 is actually state 1010. that's just the notation used by qiskit."
   ]
  },
  {
   "cell_type": "markdown",
   "metadata": {},
   "source": [
    "We can see that the entry 1010 has a higher probability of appearing as compared to all the other entries. Note that we have only done the grover method once and yet got a decent answer. I encourage you to try and iterate this method multiple times to see the increase or decrease in probability. For a larger qubit number we may have to do this multiple times to get a decent probability. "
   ]
  },
  {
   "cell_type": "markdown",
   "metadata": {},
   "source": [
    "However, if you cross a certain number of iterations the amplitude of the expected states starts to come down again. This is depicted in the link [here](https://www.sciencedirect.com/topics/mathematics/quantum-search-algorithm) through this diagram for 2 and 10 qubits. Thus, the number of iterations $\\sqrt{N}$ is usually a good number to stick to in the case of a single search item. If you are searching for \"m\" items then the number of iterations you'll have to do decreases to $\\sqrt{\\frac{N}{m}}$. This is why Grover's algorithm has an order of complexity O($\\sqrt{N}$). "
   ]
  },
  {
   "cell_type": "markdown",
   "metadata": {},
   "source": [
    "<img src=\"images/grov_2_10.png\" width=\"400px\">"
   ]
  },
  {
   "cell_type": "markdown",
   "metadata": {},
   "source": [
    "<center><a href=\"https://www.sciencedirect.com/topics/mathematics/quantum-search-algorithm\">source</a></center>"
   ]
  },
  {
   "cell_type": "markdown",
   "metadata": {},
   "source": [
    "Now that we have learnt how to apply Grover's algorithm for searching a certain entry, let's see how it can be used to solve something called a satisfiability problem. And in particular we will be dealing with a Boolean satisfiability problem called the 3-SAT problem"
   ]
  },
  {
   "cell_type": "markdown",
   "metadata": {},
   "source": [
    "## What is a 3SAT problem? "
   ]
  },
  {
   "cell_type": "markdown",
   "metadata": {},
   "source": [
    "A boolean satisfiability problem is the task of assigning the varibales in a function with boolean values - `True` and `False` - such that the entire function turns out to be `True`. To understand this let's look at a specific equation below: \n",
    "\n",
    "$$ f(v_{1}, v_{2}, v_{3}) = (\\neg v_{1} \\vee v_{2} \\vee v_{3}) \\wedge (v_{1} \\vee \\neg v_{2} \\vee \\neg v_{3}) \\wedge (v_{1} \\vee v_{2} \\vee \\neg v_{3})$$\n",
    "\n",
    "Here, \n",
    "\n",
    "* $v_1, v_2, v_3$ are the boolean variables which can take values `True` or `False` and are called **literals**\n",
    "* $(\\neg v_{1} \\vee v_{2} \\vee v_{3})$ and $(\\neg v_{1} \\vee v_{2} \\vee v_{3})$ are called **clauses**\n",
    "* $\\vee$ is the **logical OR** operator and is called a **disjunction**. \n",
    "* $\\wedge$ is the **logical AND** operator and is called a **conjunction**. \n",
    "* $\\neg$ is the **logical NOT** operator and is called a **negation**. \n",
    "\n",
    "As each clause is a disjunction of exactly three literals it is called a 3SAT problem. And more specifically as it is in the form of a conjunction of disjunction of literals it is in something called the conjunctive normal form (CNF).\n",
    "\n",
    "**Satisfiabiltiy Problem**: Find the right combination of boolean values for $v_1, v_2$ and $v_3$ such that the whole function $ f(v_{1}, v_{2}, v_{3})$ is `True`\n",
    "\n",
    "A primitive approach would be to brute force all the possible inputs and look for which one of them gives an output of 1 for our function\n",
    "\n",
    "| v_1 | v_2 | v_3 |f(v_1, v_2, v_3) |\n",
    "|:-----:|:-----:|:-----:|:-----------------------:|\n",
    "|0      | 0     | 0     | 1                       |\n",
    "|0      | 0     | 1     | 0                       |\n",
    "|0      | 1     | 0     | 1                       |\n",
    "|0      | 1     | 1     | 0                       |\n",
    "|1      | 0     | 0     | 0                       |\n",
    "|1      | 0     | 1     | 1                       |\n",
    "|1      | 1     | 0     | 1                       |\n",
    "|1      | 1     | 1     | 1                       |\n",
    "\n",
    "Now let's try to solve the same problem using Grover's algorithm\n"
   ]
  },
  {
   "cell_type": "markdown",
   "metadata": {},
   "source": [
    "## Solving a 3SAT problem using Grover's algorithm "
   ]
  },
  {
   "cell_type": "markdown",
   "metadata": {},
   "source": [
    "This problem can be thought of as searching for the right combination of boolean values for the input variables which render our function true. The main step of grover's algorithm as we know is building the oracle such that it flips our |-> state when it finds the solution, thus tagging them with a phase. Once the flip occurs, grover's will take care of amplifying the probability of those tagged states and they show up more often when we repeat this experiment for a few thousand shots. \n",
    "\n",
    "This means that the main part of the problem is to build the oracle which detects these states and tags them. Let's get on with that. "
   ]
  },
  {
   "cell_type": "markdown",
   "metadata": {},
   "source": [
    "To build the complete oracle an idea we would be: \n",
    "\n",
    "* Create oracles for each clause and store the result of whether or not they are true in separate qubits\n",
    "* Then perform an AND operation on all these stored qubits to get the final result depending onw hich we will flip our |-> state. \n",
    "\n",
    "To do this we should be able to form oracles for each clause. Take for example $(\\neg v_{1} \\vee v_{2} \\vee v_{3})$. The result of this clause is nothing but a **logical OR** $v_1$, $v_2$ and $v_3$. For this purpose we need a three qubit OR gate. Let's build it. "
   ]
  },
  {
   "cell_type": "markdown",
   "metadata": {},
   "source": [
    "#### 2 qubit OR gate\n",
    "\n",
    "Starting with a 2 qubit OR gate. This is the truth table: "
   ]
  },
  {
   "cell_type": "markdown",
   "metadata": {},
   "source": [
    "| a | b | a OR b |\n",
    "|:--:|:--:|:--:|\n",
    "|0|0|0|\n",
    "|0|1|1|\n",
    "|1|0|1|\n",
    "|1|1|1|"
   ]
  },
  {
   "cell_type": "code",
   "execution_count": 11,
   "metadata": {},
   "outputs": [
    {
     "data": {
      "text/html": [
       "<pre style=\"word-wrap: normal;white-space: pre;background: #fff0;line-height: 1.1;font-family: &quot;Courier New&quot;,Courier,monospace\">                     \n",
       "q7_0: ──■─────────■──\n",
       "        │         │  \n",
       "q7_1: ──┼────■────■──\n",
       "      ┌─┴─┐┌─┴─┐┌─┴─┐\n",
       "q7_2: ┤ X ├┤ X ├┤ X ├\n",
       "      └───┘└───┘└───┘</pre>"
      ],
      "text/plain": [
       "                     \n",
       "q7_0: ──■─────────■──\n",
       "        │         │  \n",
       "q7_1: ──┼────■────■──\n",
       "      ┌─┴─┐┌─┴─┐┌─┴─┐\n",
       "q7_2: ┤ X ├┤ X ├┤ X ├\n",
       "      └───┘└───┘└───┘"
      ]
     },
     "execution_count": 11,
     "metadata": {},
     "output_type": "execute_result"
    }
   ],
   "source": [
    "q = QuantumRegister(3)\n",
    "qc = QuantumCircuit(q)\n",
    "qc.cx(0, 2)\n",
    "qc.cx(1, 2)\n",
    "qc.ccx(0,1,2)\n",
    "qc.draw()"
   ]
  },
  {
   "cell_type": "markdown",
   "metadata": {},
   "source": [
    "Feel free to give the first two qubits values of |0> or |1> and computing the third qubit's value to crosscheck if the truth table stands corrected. "
   ]
  },
  {
   "cell_type": "markdown",
   "metadata": {},
   "source": [
    "#### 3 qubit OR gate\n",
    "\n",
    "Similarly a 3 qubit OR gate looks like: "
   ]
  },
  {
   "cell_type": "markdown",
   "metadata": {},
   "source": [
    "| a | b | c | a OR b OR c |\n",
    "|:--:|:--:|:--:|:--:|\n",
    "|0|0|0|0|\n",
    "|0|0|1|1|\n",
    "|0|1|0|1|\n",
    "|0|1|1|1|\n",
    "|1|0|0|1|\n",
    "|1|0|1|1|\n",
    "|1|1|0|1|\n",
    "|1|1|1|1|"
   ]
  },
  {
   "cell_type": "code",
   "execution_count": 12,
   "metadata": {},
   "outputs": [],
   "source": [
    "def quantum_OR(qc, a, b, c, target, ancilla):\n",
    "    qc.cx(a, target)\n",
    "    qc.cx(b, target)\n",
    "    qc.cx(c, target)\n",
    "    qc.ccx(a,b,target)\n",
    "    qc.ccx(b,c,target)\n",
    "    qc.ccx(a,c,target)\n",
    "    qc.mct([a,b,c],target,ancilla)\n",
    "    qc.draw()"
   ]
  },
  {
   "cell_type": "code",
   "execution_count": 13,
   "metadata": {},
   "outputs": [
    {
     "data": {
      "text/html": [
       "<pre style=\"word-wrap: normal;white-space: pre;background: #fff0;line-height: 1.1;font-family: &quot;Courier New&quot;,Courier,monospace\">                                         \n",
       "q8_0: ──■──────────────■─────────■────■──\n",
       "        │              │         │    │  \n",
       "q8_1: ──┼────■─────────■────■────┼────■──\n",
       "        │    │         │    │    │    │  \n",
       "q8_2: ──┼────┼────■────┼────■────■────■──\n",
       "      ┌─┴─┐┌─┴─┐┌─┴─┐┌─┴─┐┌─┴─┐┌─┴─┐┌─┴─┐\n",
       "q8_3: ┤ X ├┤ X ├┤ X ├┤ X ├┤ X ├┤ X ├┤ X ├\n",
       "      └───┘└───┘└───┘└───┘└───┘└───┘└───┘\n",
       "q8_4: ───────────────────────────────────\n",
       "                                         </pre>"
      ],
      "text/plain": [
       "                                         \n",
       "q8_0: ──■──────────────■─────────■────■──\n",
       "        │              │         │    │  \n",
       "q8_1: ──┼────■─────────■────■────┼────■──\n",
       "        │    │         │    │    │    │  \n",
       "q8_2: ──┼────┼────■────┼────■────■────■──\n",
       "      ┌─┴─┐┌─┴─┐┌─┴─┐┌─┴─┐┌─┴─┐┌─┴─┐┌─┴─┐\n",
       "q8_3: ┤ X ├┤ X ├┤ X ├┤ X ├┤ X ├┤ X ├┤ X ├\n",
       "      └───┘└───┘└───┘└───┘└───┘└───┘└───┘\n",
       "q8_4: ───────────────────────────────────\n",
       "                                         "
      ]
     },
     "execution_count": 13,
     "metadata": {},
     "output_type": "execute_result"
    }
   ],
   "source": [
    "q = QuantumRegister(5) # 3 inputs, one target, one ancilla\n",
    "qc = QuantumCircuit(q)\n",
    "quantum_OR(qc, 0, 1, 2, 3, 4)\n",
    "qc.draw()"
   ]
  },
  {
   "cell_type": "markdown",
   "metadata": {},
   "source": [
    "The best way to understand what the circuit is doing would be to place all the possible inputs and test whether hte truth table is satisfied. Now, back to our problem of finding an oracle for a specific clause.  "
   ]
  },
  {
   "cell_type": "markdown",
   "metadata": {},
   "source": [
    "## Creating an oracle for each clause "
   ]
  },
  {
   "cell_type": "markdown",
   "metadata": {},
   "source": [
    "Let's build our circuit with 8 qubits: \n",
    "* **(qubit numbers: 0, 1, 2)** &emsp;- 3 qubits for our input boolean variables $v_1$, $v_2$ and $v_3$\n",
    "* **(qubit numbers: 3)**&emsp;&emsp;&emsp;&emsp;- 1 qubit for storing the |-> state\n",
    "* **(qubit numbers: 4, 5, 6)** &emsp;- 3 qubits for storing the outputs of the three clauses in our equation\n",
    "* **(qubit numbers: 7)**&emsp;&emsp;&emsp;&emsp;- 1 ancilla qubit for our 3-qubit mct gates (3 qubit AND gates require one ancilla) (as explaiend about regarding mct gates)\n",
    "\n",
    "And our solutions will be stored in a classical register of size 3 "
   ]
  },
  {
   "cell_type": "markdown",
   "metadata": {},
   "source": [
    "### Initialisation and Equal superpostion"
   ]
  },
  {
   "cell_type": "code",
   "execution_count": 14,
   "metadata": {},
   "outputs": [],
   "source": [
    "q = QuantumRegister(8)\n",
    "c = ClassicalRegister(3)\n",
    "qc = QuantumCircuit(q, c)"
   ]
  },
  {
   "cell_type": "code",
   "execution_count": 15,
   "metadata": {},
   "outputs": [
    {
     "data": {
      "text/html": [
       "<pre style=\"word-wrap: normal;white-space: pre;background: #fff0;line-height: 1.1;font-family: &quot;Courier New&quot;,Courier,monospace\">      ┌───┐      ░ \n",
       "q9_0: ┤ H ├──────░─\n",
       "      ├───┤      ░ \n",
       "q9_1: ┤ H ├──────░─\n",
       "      ├───┤      ░ \n",
       "q9_2: ┤ H ├──────░─\n",
       "      ├───┤┌───┐ ░ \n",
       "q9_3: ┤ X ├┤ H ├─░─\n",
       "      └───┘└───┘ ░ \n",
       "q9_4: ───────────░─\n",
       "                 ░ \n",
       "q9_5: ───────────░─\n",
       "                 ░ \n",
       "q9_6: ───────────░─\n",
       "                 ░ \n",
       "q9_7: ───────────░─\n",
       "                 ░ \n",
       "c1: 3/═════════════\n",
       "                   </pre>"
      ],
      "text/plain": [
       "      ┌───┐      ░ \n",
       "q9_0: ┤ H ├──────░─\n",
       "      ├───┤      ░ \n",
       "q9_1: ┤ H ├──────░─\n",
       "      ├───┤      ░ \n",
       "q9_2: ┤ H ├──────░─\n",
       "      ├───┤┌───┐ ░ \n",
       "q9_3: ┤ X ├┤ H ├─░─\n",
       "      └───┘└───┘ ░ \n",
       "q9_4: ───────────░─\n",
       "                 ░ \n",
       "q9_5: ───────────░─\n",
       "                 ░ \n",
       "q9_6: ───────────░─\n",
       "                 ░ \n",
       "q9_7: ───────────░─\n",
       "                 ░ \n",
       "c1: 3/═════════════\n",
       "                   "
      ]
     },
     "execution_count": 15,
     "metadata": {},
     "output_type": "execute_result"
    }
   ],
   "source": [
    "# initialize our input qubits in a superposition of all possible states \n",
    "qc.x(q[3]) # |-> state qubit\n",
    "qc.h(q[0:4])\n",
    "qc.barrier(q)\n",
    "qc.draw()"
   ]
  },
  {
   "cell_type": "markdown",
   "metadata": {},
   "source": [
    "### Oracle for $(\\neg v_{1} \\vee v_{2} \\vee v_{3})$"
   ]
  },
  {
   "cell_type": "markdown",
   "metadata": {},
   "source": [
    "Apart from the negation on $v_1$ this is just a logical OR on three qubits. So, we apply an X gate to the first qubit and then the 3 qubit logical OR. The result of this will be stored in qubit number 4. "
   ]
  },
  {
   "cell_type": "code",
   "execution_count": 16,
   "metadata": {},
   "outputs": [
    {
     "data": {
      "text/html": [
       "<pre style=\"word-wrap: normal;white-space: pre;background: #fff0;line-height: 1.1;font-family: &quot;Courier New&quot;,Courier,monospace\">      ┌───┐      ░ ┌───┐                                   \n",
       "q9_0: ┤ H ├──────░─┤ X ├──■──────────────■─────────■────■──\n",
       "      ├───┤      ░ └───┘  │              │         │    │  \n",
       "q9_1: ┤ H ├──────░────────┼────■─────────■────■────┼────■──\n",
       "      ├───┤      ░        │    │         │    │    │    │  \n",
       "q9_2: ┤ H ├──────░────────┼────┼────■────┼────■────■────■──\n",
       "      ├───┤┌───┐ ░        │    │    │    │    │    │    │  \n",
       "q9_3: ┤ X ├┤ H ├─░────────┼────┼────┼────┼────┼────┼────┼──\n",
       "      └───┘└───┘ ░      ┌─┴─┐┌─┴─┐┌─┴─┐┌─┴─┐┌─┴─┐┌─┴─┐┌─┴─┐\n",
       "q9_4: ───────────░──────┤ X ├┤ X ├┤ X ├┤ X ├┤ X ├┤ X ├┤ X ├\n",
       "                 ░      └───┘└───┘└───┘└───┘└───┘└───┘└───┘\n",
       "q9_5: ───────────░─────────────────────────────────────────\n",
       "                 ░                                         \n",
       "q9_6: ───────────░─────────────────────────────────────────\n",
       "                 ░                                         \n",
       "q9_7: ───────────░─────────────────────────────────────────\n",
       "                 ░                                         \n",
       "c1: 3/═════════════════════════════════════════════════════\n",
       "                                                           </pre>"
      ],
      "text/plain": [
       "      ┌───┐      ░ ┌───┐                                   \n",
       "q9_0: ┤ H ├──────░─┤ X ├──■──────────────■─────────■────■──\n",
       "      ├───┤      ░ └───┘  │              │         │    │  \n",
       "q9_1: ┤ H ├──────░────────┼────■─────────■────■────┼────■──\n",
       "      ├───┤      ░        │    │         │    │    │    │  \n",
       "q9_2: ┤ H ├──────░────────┼────┼────■────┼────■────■────■──\n",
       "      ├───┤┌───┐ ░        │    │    │    │    │    │    │  \n",
       "q9_3: ┤ X ├┤ H ├─░────────┼────┼────┼────┼────┼────┼────┼──\n",
       "      └───┘└───┘ ░      ┌─┴─┐┌─┴─┐┌─┴─┐┌─┴─┐┌─┴─┐┌─┴─┐┌─┴─┐\n",
       "q9_4: ───────────░──────┤ X ├┤ X ├┤ X ├┤ X ├┤ X ├┤ X ├┤ X ├\n",
       "                 ░      └───┘└───┘└───┘└───┘└───┘└───┘└───┘\n",
       "q9_5: ───────────░─────────────────────────────────────────\n",
       "                 ░                                         \n",
       "q9_6: ───────────░─────────────────────────────────────────\n",
       "                 ░                                         \n",
       "q9_7: ───────────░─────────────────────────────────────────\n",
       "                 ░                                         \n",
       "c1: 3/═════════════════════════════════════════════════════\n",
       "                                                           "
      ]
     },
     "execution_count": 16,
     "metadata": {},
     "output_type": "execute_result"
    }
   ],
   "source": [
    "qc.x(0)\n",
    "quantum_OR(qc,0, 1, 2, 4, 7)\n",
    "qc.draw()"
   ]
  },
  {
   "cell_type": "markdown",
   "metadata": {},
   "source": [
    "**Important Note:** You may think we are done with the oracle but we still have one important step to do: Cleaning the altered qubits (if we are going to use them later in the circuit). For example, we have applied an X gate to qubit number 0. Now, when we use qubit 0 for the oracle of our next clause it will not give use the required result as the value of qubit 0 has been changed. To counteract this we need to clean qubit number zero by taking it back to the state that it was in. This, in our case, can be done by just re-applying the X gate to qubit zero, bringing it back to its initial state. "
   ]
  },
  {
   "cell_type": "code",
   "execution_count": 17,
   "metadata": {},
   "outputs": [
    {
     "data": {
      "text/html": [
       "<pre style=\"word-wrap: normal;white-space: pre;background: #fff0;line-height: 1.1;font-family: &quot;Courier New&quot;,Courier,monospace\">      ┌───┐      ░ ┌───┐                                   ┌───┐ ░ \n",
       "q9_0: ┤ H ├──────░─┤ X ├──■──────────────■─────────■────■──┤ X ├─░─\n",
       "      ├───┤      ░ └───┘  │              │         │    │  └───┘ ░ \n",
       "q9_1: ┤ H ├──────░────────┼────■─────────■────■────┼────■────────░─\n",
       "      ├───┤      ░        │    │         │    │    │    │        ░ \n",
       "q9_2: ┤ H ├──────░────────┼────┼────■────┼────■────■────■────────░─\n",
       "      ├───┤┌───┐ ░        │    │    │    │    │    │    │        ░ \n",
       "q9_3: ┤ X ├┤ H ├─░────────┼────┼────┼────┼────┼────┼────┼────────░─\n",
       "      └───┘└───┘ ░      ┌─┴─┐┌─┴─┐┌─┴─┐┌─┴─┐┌─┴─┐┌─┴─┐┌─┴─┐      ░ \n",
       "q9_4: ───────────░──────┤ X ├┤ X ├┤ X ├┤ X ├┤ X ├┤ X ├┤ X ├──────░─\n",
       "                 ░      └───┘└───┘└───┘└───┘└───┘└───┘└───┘      ░ \n",
       "q9_5: ───────────░───────────────────────────────────────────────░─\n",
       "                 ░                                               ░ \n",
       "q9_6: ───────────░───────────────────────────────────────────────░─\n",
       "                 ░                                               ░ \n",
       "q9_7: ───────────░───────────────────────────────────────────────░─\n",
       "                 ░                                               ░ \n",
       "c1: 3/═════════════════════════════════════════════════════════════\n",
       "                                                                   </pre>"
      ],
      "text/plain": [
       "      ┌───┐      ░ ┌───┐                                   ┌───┐ ░ \n",
       "q9_0: ┤ H ├──────░─┤ X ├──■──────────────■─────────■────■──┤ X ├─░─\n",
       "      ├───┤      ░ └───┘  │              │         │    │  └───┘ ░ \n",
       "q9_1: ┤ H ├──────░────────┼────■─────────■────■────┼────■────────░─\n",
       "      ├───┤      ░        │    │         │    │    │    │        ░ \n",
       "q9_2: ┤ H ├──────░────────┼────┼────■────┼────■────■────■────────░─\n",
       "      ├───┤┌───┐ ░        │    │    │    │    │    │    │        ░ \n",
       "q9_3: ┤ X ├┤ H ├─░────────┼────┼────┼────┼────┼────┼────┼────────░─\n",
       "      └───┘└───┘ ░      ┌─┴─┐┌─┴─┐┌─┴─┐┌─┴─┐┌─┴─┐┌─┴─┐┌─┴─┐      ░ \n",
       "q9_4: ───────────░──────┤ X ├┤ X ├┤ X ├┤ X ├┤ X ├┤ X ├┤ X ├──────░─\n",
       "                 ░      └───┘└───┘└───┘└───┘└───┘└───┘└───┘      ░ \n",
       "q9_5: ───────────░───────────────────────────────────────────────░─\n",
       "                 ░                                               ░ \n",
       "q9_6: ───────────░───────────────────────────────────────────────░─\n",
       "                 ░                                               ░ \n",
       "q9_7: ───────────░───────────────────────────────────────────────░─\n",
       "                 ░                                               ░ \n",
       "c1: 3/═════════════════════════════════════════════════════════════\n",
       "                                                                   "
      ]
     },
     "execution_count": 17,
     "metadata": {},
     "output_type": "execute_result"
    }
   ],
   "source": [
    "# cleaning qubit zero\n",
    "qc.x(0)\n",
    "qc.barrier()\n",
    "qc.draw()"
   ]
  },
  {
   "cell_type": "markdown",
   "metadata": {},
   "source": [
    "### Oracle for $(v_{1} \\vee \\neg v_{2} \\vee \\neg v_{3})$"
   ]
  },
  {
   "cell_type": "markdown",
   "metadata": {},
   "source": [
    "Similarly we can find the oracle for $(v_{1} \\vee \\neg v_{2} \\vee \\neg v_{3})$"
   ]
  },
  {
   "cell_type": "code",
   "execution_count": 18,
   "metadata": {
    "scrolled": true
   },
   "outputs": [
    {
     "data": {
      "text/html": [
       "<pre style=\"word-wrap: normal;white-space: pre;background: #fff0;line-height: 1.1;font-family: &quot;Courier New&quot;,Courier,monospace\">      ┌───┐      ░ ┌───┐                                   ┌───┐ ░           »\n",
       "q9_0: ┤ H ├──────░─┤ X ├──■──────────────■─────────■────■──┤ X ├─░────────■──»\n",
       "      ├───┤      ░ └───┘  │              │         │    │  └───┘ ░ ┌───┐  │  »\n",
       "q9_1: ┤ H ├──────░────────┼────■─────────■────■────┼────■────────░─┤ X ├──┼──»\n",
       "      ├───┤      ░        │    │         │    │    │    │        ░ ├───┤  │  »\n",
       "q9_2: ┤ H ├──────░────────┼────┼────■────┼────■────■────■────────░─┤ X ├──┼──»\n",
       "      ├───┤┌───┐ ░        │    │    │    │    │    │    │        ░ └───┘  │  »\n",
       "q9_3: ┤ X ├┤ H ├─░────────┼────┼────┼────┼────┼────┼────┼────────░────────┼──»\n",
       "      └───┘└───┘ ░      ┌─┴─┐┌─┴─┐┌─┴─┐┌─┴─┐┌─┴─┐┌─┴─┐┌─┴─┐      ░        │  »\n",
       "q9_4: ───────────░──────┤ X ├┤ X ├┤ X ├┤ X ├┤ X ├┤ X ├┤ X ├──────░────────┼──»\n",
       "                 ░      └───┘└───┘└───┘└───┘└───┘└───┘└───┘      ░      ┌─┴─┐»\n",
       "q9_5: ───────────░───────────────────────────────────────────────░──────┤ X ├»\n",
       "                 ░                                               ░      └───┘»\n",
       "q9_6: ───────────░───────────────────────────────────────────────░───────────»\n",
       "                 ░                                               ░           »\n",
       "q9_7: ───────────░───────────────────────────────────────────────░───────────»\n",
       "                 ░                                               ░           »\n",
       "c1: 3/═══════════════════════════════════════════════════════════════════════»\n",
       "                                                                             »\n",
       "«                                          ░ \n",
       "«q9_0: ────────────■─────────■────■────────░─\n",
       "«                  │         │    │  ┌───┐ ░ \n",
       "«q9_1: ──■─────────■────■────┼────■──┤ X ├─░─\n",
       "«        │         │    │    │    │  ├───┤ ░ \n",
       "«q9_2: ──┼────■────┼────■────■────■──┤ X ├─░─\n",
       "«        │    │    │    │    │    │  └───┘ ░ \n",
       "«q9_3: ──┼────┼────┼────┼────┼────┼────────░─\n",
       "«        │    │    │    │    │    │        ░ \n",
       "«q9_4: ──┼────┼────┼────┼────┼────┼────────░─\n",
       "«      ┌─┴─┐┌─┴─┐┌─┴─┐┌─┴─┐┌─┴─┐┌─┴─┐      ░ \n",
       "«q9_5: ┤ X ├┤ X ├┤ X ├┤ X ├┤ X ├┤ X ├──────░─\n",
       "«      └───┘└───┘└───┘└───┘└───┘└───┘      ░ \n",
       "«q9_6: ────────────────────────────────────░─\n",
       "«                                          ░ \n",
       "«q9_7: ────────────────────────────────────░─\n",
       "«                                          ░ \n",
       "«c1: 3/══════════════════════════════════════\n",
       "«                                            </pre>"
      ],
      "text/plain": [
       "      ┌───┐      ░ ┌───┐                                   ┌───┐ ░           »\n",
       "q9_0: ┤ H ├──────░─┤ X ├──■──────────────■─────────■────■──┤ X ├─░────────■──»\n",
       "      ├───┤      ░ └───┘  │              │         │    │  └───┘ ░ ┌───┐  │  »\n",
       "q9_1: ┤ H ├──────░────────┼────■─────────■────■────┼────■────────░─┤ X ├──┼──»\n",
       "      ├───┤      ░        │    │         │    │    │    │        ░ ├───┤  │  »\n",
       "q9_2: ┤ H ├──────░────────┼────┼────■────┼────■────■────■────────░─┤ X ├──┼──»\n",
       "      ├───┤┌───┐ ░        │    │    │    │    │    │    │        ░ └───┘  │  »\n",
       "q9_3: ┤ X ├┤ H ├─░────────┼────┼────┼────┼────┼────┼────┼────────░────────┼──»\n",
       "      └───┘└───┘ ░      ┌─┴─┐┌─┴─┐┌─┴─┐┌─┴─┐┌─┴─┐┌─┴─┐┌─┴─┐      ░        │  »\n",
       "q9_4: ───────────░──────┤ X ├┤ X ├┤ X ├┤ X ├┤ X ├┤ X ├┤ X ├──────░────────┼──»\n",
       "                 ░      └───┘└───┘└───┘└───┘└───┘└───┘└───┘      ░      ┌─┴─┐»\n",
       "q9_5: ───────────░───────────────────────────────────────────────░──────┤ X ├»\n",
       "                 ░                                               ░      └───┘»\n",
       "q9_6: ───────────░───────────────────────────────────────────────░───────────»\n",
       "                 ░                                               ░           »\n",
       "q9_7: ───────────░───────────────────────────────────────────────░───────────»\n",
       "                 ░                                               ░           »\n",
       "c1: 3/═══════════════════════════════════════════════════════════════════════»\n",
       "                                                                             »\n",
       "«                                          ░ \n",
       "«q9_0: ────────────■─────────■────■────────░─\n",
       "«                  │         │    │  ┌───┐ ░ \n",
       "«q9_1: ──■─────────■────■────┼────■──┤ X ├─░─\n",
       "«        │         │    │    │    │  ├───┤ ░ \n",
       "«q9_2: ──┼────■────┼────■────■────■──┤ X ├─░─\n",
       "«        │    │    │    │    │    │  └───┘ ░ \n",
       "«q9_3: ──┼────┼────┼────┼────┼────┼────────░─\n",
       "«        │    │    │    │    │    │        ░ \n",
       "«q9_4: ──┼────┼────┼────┼────┼────┼────────░─\n",
       "«      ┌─┴─┐┌─┴─┐┌─┴─┐┌─┴─┐┌─┴─┐┌─┴─┐      ░ \n",
       "«q9_5: ┤ X ├┤ X ├┤ X ├┤ X ├┤ X ├┤ X ├──────░─\n",
       "«      └───┘└───┘└───┘└───┘└───┘└───┘      ░ \n",
       "«q9_6: ────────────────────────────────────░─\n",
       "«                                          ░ \n",
       "«q9_7: ────────────────────────────────────░─\n",
       "«                                          ░ \n",
       "«c1: 3/══════════════════════════════════════\n",
       "«                                            "
      ]
     },
     "execution_count": 18,
     "metadata": {},
     "output_type": "execute_result"
    }
   ],
   "source": [
    "qc.x([1, 2])\n",
    "quantum_OR(qc,0, 1, 2, 5, 7)\n",
    "qc.x([1, 2])\n",
    "qc.barrier()\n",
    "qc.draw()"
   ]
  },
  {
   "cell_type": "markdown",
   "metadata": {},
   "source": [
    "### Oracle for $(v_{1} \\vee v_{2} \\vee \\neg v_{3})$"
   ]
  },
  {
   "cell_type": "code",
   "execution_count": 19,
   "metadata": {},
   "outputs": [
    {
     "data": {
      "text/html": [
       "<pre style=\"word-wrap: normal;white-space: pre;background: #fff0;line-height: 1.1;font-family: &quot;Courier New&quot;,Courier,monospace\">      ┌───┐      ░ ┌───┐                                   ┌───┐ ░           »\n",
       "q9_0: ┤ H ├──────░─┤ X ├──■──────────────■─────────■────■──┤ X ├─░────────■──»\n",
       "      ├───┤      ░ └───┘  │              │         │    │  └───┘ ░ ┌───┐  │  »\n",
       "q9_1: ┤ H ├──────░────────┼────■─────────■────■────┼────■────────░─┤ X ├──┼──»\n",
       "      ├───┤      ░        │    │         │    │    │    │        ░ ├───┤  │  »\n",
       "q9_2: ┤ H ├──────░────────┼────┼────■────┼────■────■────■────────░─┤ X ├──┼──»\n",
       "      ├───┤┌───┐ ░        │    │    │    │    │    │    │        ░ └───┘  │  »\n",
       "q9_3: ┤ X ├┤ H ├─░────────┼────┼────┼────┼────┼────┼────┼────────░────────┼──»\n",
       "      └───┘└───┘ ░      ┌─┴─┐┌─┴─┐┌─┴─┐┌─┴─┐┌─┴─┐┌─┴─┐┌─┴─┐      ░        │  »\n",
       "q9_4: ───────────░──────┤ X ├┤ X ├┤ X ├┤ X ├┤ X ├┤ X ├┤ X ├──────░────────┼──»\n",
       "                 ░      └───┘└───┘└───┘└───┘└───┘└───┘└───┘      ░      ┌─┴─┐»\n",
       "q9_5: ───────────░───────────────────────────────────────────────░──────┤ X ├»\n",
       "                 ░                                               ░      └───┘»\n",
       "q9_6: ───────────░───────────────────────────────────────────────░───────────»\n",
       "                 ░                                               ░           »\n",
       "q9_7: ───────────░───────────────────────────────────────────────░───────────»\n",
       "                 ░                                               ░           »\n",
       "c1: 3/═══════════════════════════════════════════════════════════════════════»\n",
       "                                                                             »\n",
       "«                                          ░                               »\n",
       "«q9_0: ────────────■─────────■────■────────░────────■──────────────■───────»\n",
       "«                  │         │    │  ┌───┐ ░        │              │       »\n",
       "«q9_1: ──■─────────■────■────┼────■──┤ X ├─░────────┼────■─────────■────■──»\n",
       "«        │         │    │    │    │  ├───┤ ░ ┌───┐  │    │         │    │  »\n",
       "«q9_2: ──┼────■────┼────■────■────■──┤ X ├─░─┤ X ├──┼────┼────■────┼────■──»\n",
       "«        │    │    │    │    │    │  └───┘ ░ └───┘  │    │    │    │    │  »\n",
       "«q9_3: ──┼────┼────┼────┼────┼────┼────────░────────┼────┼────┼────┼────┼──»\n",
       "«        │    │    │    │    │    │        ░        │    │    │    │    │  »\n",
       "«q9_4: ──┼────┼────┼────┼────┼────┼────────░────────┼────┼────┼────┼────┼──»\n",
       "«      ┌─┴─┐┌─┴─┐┌─┴─┐┌─┴─┐┌─┴─┐┌─┴─┐      ░        │    │    │    │    │  »\n",
       "«q9_5: ┤ X ├┤ X ├┤ X ├┤ X ├┤ X ├┤ X ├──────░────────┼────┼────┼────┼────┼──»\n",
       "«      └───┘└───┘└───┘└───┘└───┘└───┘      ░      ┌─┴─┐┌─┴─┐┌─┴─┐┌─┴─┐┌─┴─┐»\n",
       "«q9_6: ────────────────────────────────────░──────┤ X ├┤ X ├┤ X ├┤ X ├┤ X ├»\n",
       "«                                          ░      └───┘└───┘└───┘└───┘└───┘»\n",
       "«q9_7: ────────────────────────────────────░───────────────────────────────»\n",
       "«                                          ░                               »\n",
       "«c1: 3/════════════════════════════════════════════════════════════════════»\n",
       "«                                                                          »\n",
       "«                      ░ \n",
       "«q9_0: ──■────■────────░─\n",
       "«        │    │        ░ \n",
       "«q9_1: ──┼────■────────░─\n",
       "«        │    │  ┌───┐ ░ \n",
       "«q9_2: ──■────■──┤ X ├─░─\n",
       "«        │    │  └───┘ ░ \n",
       "«q9_3: ──┼────┼────────░─\n",
       "«        │    │        ░ \n",
       "«q9_4: ──┼────┼────────░─\n",
       "«        │    │        ░ \n",
       "«q9_5: ──┼────┼────────░─\n",
       "«      ┌─┴─┐┌─┴─┐      ░ \n",
       "«q9_6: ┤ X ├┤ X ├──────░─\n",
       "«      └───┘└───┘      ░ \n",
       "«q9_7: ────────────────░─\n",
       "«                      ░ \n",
       "«c1: 3/══════════════════\n",
       "«                        </pre>"
      ],
      "text/plain": [
       "      ┌───┐      ░ ┌───┐                                   ┌───┐ ░           »\n",
       "q9_0: ┤ H ├──────░─┤ X ├──■──────────────■─────────■────■──┤ X ├─░────────■──»\n",
       "      ├───┤      ░ └───┘  │              │         │    │  └───┘ ░ ┌───┐  │  »\n",
       "q9_1: ┤ H ├──────░────────┼────■─────────■────■────┼────■────────░─┤ X ├──┼──»\n",
       "      ├───┤      ░        │    │         │    │    │    │        ░ ├───┤  │  »\n",
       "q9_2: ┤ H ├──────░────────┼────┼────■────┼────■────■────■────────░─┤ X ├──┼──»\n",
       "      ├───┤┌───┐ ░        │    │    │    │    │    │    │        ░ └───┘  │  »\n",
       "q9_3: ┤ X ├┤ H ├─░────────┼────┼────┼────┼────┼────┼────┼────────░────────┼──»\n",
       "      └───┘└───┘ ░      ┌─┴─┐┌─┴─┐┌─┴─┐┌─┴─┐┌─┴─┐┌─┴─┐┌─┴─┐      ░        │  »\n",
       "q9_4: ───────────░──────┤ X ├┤ X ├┤ X ├┤ X ├┤ X ├┤ X ├┤ X ├──────░────────┼──»\n",
       "                 ░      └───┘└───┘└───┘└───┘└───┘└───┘└───┘      ░      ┌─┴─┐»\n",
       "q9_5: ───────────░───────────────────────────────────────────────░──────┤ X ├»\n",
       "                 ░                                               ░      └───┘»\n",
       "q9_6: ───────────░───────────────────────────────────────────────░───────────»\n",
       "                 ░                                               ░           »\n",
       "q9_7: ───────────░───────────────────────────────────────────────░───────────»\n",
       "                 ░                                               ░           »\n",
       "c1: 3/═══════════════════════════════════════════════════════════════════════»\n",
       "                                                                             »\n",
       "«                                          ░                               »\n",
       "«q9_0: ────────────■─────────■────■────────░────────■──────────────■───────»\n",
       "«                  │         │    │  ┌───┐ ░        │              │       »\n",
       "«q9_1: ──■─────────■────■────┼────■──┤ X ├─░────────┼────■─────────■────■──»\n",
       "«        │         │    │    │    │  ├───┤ ░ ┌───┐  │    │         │    │  »\n",
       "«q9_2: ──┼────■────┼────■────■────■──┤ X ├─░─┤ X ├──┼────┼────■────┼────■──»\n",
       "«        │    │    │    │    │    │  └───┘ ░ └───┘  │    │    │    │    │  »\n",
       "«q9_3: ──┼────┼────┼────┼────┼────┼────────░────────┼────┼────┼────┼────┼──»\n",
       "«        │    │    │    │    │    │        ░        │    │    │    │    │  »\n",
       "«q9_4: ──┼────┼────┼────┼────┼────┼────────░────────┼────┼────┼────┼────┼──»\n",
       "«      ┌─┴─┐┌─┴─┐┌─┴─┐┌─┴─┐┌─┴─┐┌─┴─┐      ░        │    │    │    │    │  »\n",
       "«q9_5: ┤ X ├┤ X ├┤ X ├┤ X ├┤ X ├┤ X ├──────░────────┼────┼────┼────┼────┼──»\n",
       "«      └───┘└───┘└───┘└───┘└───┘└───┘      ░      ┌─┴─┐┌─┴─┐┌─┴─┐┌─┴─┐┌─┴─┐»\n",
       "«q9_6: ────────────────────────────────────░──────┤ X ├┤ X ├┤ X ├┤ X ├┤ X ├»\n",
       "«                                          ░      └───┘└───┘└───┘└───┘└───┘»\n",
       "«q9_7: ────────────────────────────────────░───────────────────────────────»\n",
       "«                                          ░                               »\n",
       "«c1: 3/════════════════════════════════════════════════════════════════════»\n",
       "«                                                                          »\n",
       "«                      ░ \n",
       "«q9_0: ──■────■────────░─\n",
       "«        │    │        ░ \n",
       "«q9_1: ──┼────■────────░─\n",
       "«        │    │  ┌───┐ ░ \n",
       "«q9_2: ──■────■──┤ X ├─░─\n",
       "«        │    │  └───┘ ░ \n",
       "«q9_3: ──┼────┼────────░─\n",
       "«        │    │        ░ \n",
       "«q9_4: ──┼────┼────────░─\n",
       "«        │    │        ░ \n",
       "«q9_5: ──┼────┼────────░─\n",
       "«      ┌─┴─┐┌─┴─┐      ░ \n",
       "«q9_6: ┤ X ├┤ X ├──────░─\n",
       "«      └───┘└───┘      ░ \n",
       "«q9_7: ────────────────░─\n",
       "«                      ░ \n",
       "«c1: 3/══════════════════\n",
       "«                        "
      ]
     },
     "execution_count": 19,
     "metadata": {},
     "output_type": "execute_result"
    }
   ],
   "source": [
    "qc.x(2)\n",
    "quantum_OR(qc,0, 1, 2, 6, 7)\n",
    "qc.x(2)\n",
    "qc.barrier()\n",
    "qc.draw()"
   ]
  },
  {
   "cell_type": "markdown",
   "metadata": {},
   "source": [
    "### Final Conjugation "
   ]
  },
  {
   "cell_type": "markdown",
   "metadata": {},
   "source": [
    "Now that we have the result of each of our clauses stored in qubits 4, 5 and 6 - We should apply a logical AND operation on them and the sign bit (|->) stored in qubit number 3 must be flipped if the output of the AND operation is 1. This will complete the oracle for our specific problem"
   ]
  },
  {
   "cell_type": "code",
   "execution_count": 20,
   "metadata": {},
   "outputs": [
    {
     "data": {
      "text/html": [
       "<pre style=\"word-wrap: normal;white-space: pre;background: #fff0;line-height: 1.1;font-family: &quot;Courier New&quot;,Courier,monospace\">      ┌───┐      ░ ┌───┐                                   ┌───┐ ░           »\n",
       "q9_0: ┤ H ├──────░─┤ X ├──■──────────────■─────────■────■──┤ X ├─░────────■──»\n",
       "      ├───┤      ░ └───┘  │              │         │    │  └───┘ ░ ┌───┐  │  »\n",
       "q9_1: ┤ H ├──────░────────┼────■─────────■────■────┼────■────────░─┤ X ├──┼──»\n",
       "      ├───┤      ░        │    │         │    │    │    │        ░ ├───┤  │  »\n",
       "q9_2: ┤ H ├──────░────────┼────┼────■────┼────■────■────■────────░─┤ X ├──┼──»\n",
       "      ├───┤┌───┐ ░        │    │    │    │    │    │    │        ░ └───┘  │  »\n",
       "q9_3: ┤ X ├┤ H ├─░────────┼────┼────┼────┼────┼────┼────┼────────░────────┼──»\n",
       "      └───┘└───┘ ░      ┌─┴─┐┌─┴─┐┌─┴─┐┌─┴─┐┌─┴─┐┌─┴─┐┌─┴─┐      ░        │  »\n",
       "q9_4: ───────────░──────┤ X ├┤ X ├┤ X ├┤ X ├┤ X ├┤ X ├┤ X ├──────░────────┼──»\n",
       "                 ░      └───┘└───┘└───┘└───┘└───┘└───┘└───┘      ░      ┌─┴─┐»\n",
       "q9_5: ───────────░───────────────────────────────────────────────░──────┤ X ├»\n",
       "                 ░                                               ░      └───┘»\n",
       "q9_6: ───────────░───────────────────────────────────────────────░───────────»\n",
       "                 ░                                               ░           »\n",
       "q9_7: ───────────░───────────────────────────────────────────────░───────────»\n",
       "                 ░                                               ░           »\n",
       "c1: 3/═══════════════════════════════════════════════════════════════════════»\n",
       "                                                                             »\n",
       "«                                          ░                               »\n",
       "«q9_0: ────────────■─────────■────■────────░────────■──────────────■───────»\n",
       "«                  │         │    │  ┌───┐ ░        │              │       »\n",
       "«q9_1: ──■─────────■────■────┼────■──┤ X ├─░────────┼────■─────────■────■──»\n",
       "«        │         │    │    │    │  ├───┤ ░ ┌───┐  │    │         │    │  »\n",
       "«q9_2: ──┼────■────┼────■────■────■──┤ X ├─░─┤ X ├──┼────┼────■────┼────■──»\n",
       "«        │    │    │    │    │    │  └───┘ ░ └───┘  │    │    │    │    │  »\n",
       "«q9_3: ──┼────┼────┼────┼────┼────┼────────░────────┼────┼────┼────┼────┼──»\n",
       "«        │    │    │    │    │    │        ░        │    │    │    │    │  »\n",
       "«q9_4: ──┼────┼────┼────┼────┼────┼────────░────────┼────┼────┼────┼────┼──»\n",
       "«      ┌─┴─┐┌─┴─┐┌─┴─┐┌─┴─┐┌─┴─┐┌─┴─┐      ░        │    │    │    │    │  »\n",
       "«q9_5: ┤ X ├┤ X ├┤ X ├┤ X ├┤ X ├┤ X ├──────░────────┼────┼────┼────┼────┼──»\n",
       "«      └───┘└───┘└───┘└───┘└───┘└───┘      ░      ┌─┴─┐┌─┴─┐┌─┴─┐┌─┴─┐┌─┴─┐»\n",
       "«q9_6: ────────────────────────────────────░──────┤ X ├┤ X ├┤ X ├┤ X ├┤ X ├»\n",
       "«                                          ░      └───┘└───┘└───┘└───┘└───┘»\n",
       "«q9_7: ────────────────────────────────────░───────────────────────────────»\n",
       "«                                          ░                               »\n",
       "«c1: 3/════════════════════════════════════════════════════════════════════»\n",
       "«                                                                          »\n",
       "«                      ░       ░ \n",
       "«q9_0: ──■────■────────░───────░─\n",
       "«        │    │        ░       ░ \n",
       "«q9_1: ──┼────■────────░───────░─\n",
       "«        │    │  ┌───┐ ░       ░ \n",
       "«q9_2: ──■────■──┤ X ├─░───────░─\n",
       "«        │    │  └───┘ ░ ┌───┐ ░ \n",
       "«q9_3: ──┼────┼────────░─┤ X ├─░─\n",
       "«        │    │        ░ └─┬─┘ ░ \n",
       "«q9_4: ──┼────┼────────░───■───░─\n",
       "«        │    │        ░   │   ░ \n",
       "«q9_5: ──┼────┼────────░───■───░─\n",
       "«      ┌─┴─┐┌─┴─┐      ░   │   ░ \n",
       "«q9_6: ┤ X ├┤ X ├──────░───■───░─\n",
       "«      └───┘└───┘      ░       ░ \n",
       "«q9_7: ────────────────░───────░─\n",
       "«                      ░       ░ \n",
       "«c1: 3/══════════════════════════\n",
       "«                                </pre>"
      ],
      "text/plain": [
       "      ┌───┐      ░ ┌───┐                                   ┌───┐ ░           »\n",
       "q9_0: ┤ H ├──────░─┤ X ├──■──────────────■─────────■────■──┤ X ├─░────────■──»\n",
       "      ├───┤      ░ └───┘  │              │         │    │  └───┘ ░ ┌───┐  │  »\n",
       "q9_1: ┤ H ├──────░────────┼────■─────────■────■────┼────■────────░─┤ X ├──┼──»\n",
       "      ├───┤      ░        │    │         │    │    │    │        ░ ├───┤  │  »\n",
       "q9_2: ┤ H ├──────░────────┼────┼────■────┼────■────■────■────────░─┤ X ├──┼──»\n",
       "      ├───┤┌───┐ ░        │    │    │    │    │    │    │        ░ └───┘  │  »\n",
       "q9_3: ┤ X ├┤ H ├─░────────┼────┼────┼────┼────┼────┼────┼────────░────────┼──»\n",
       "      └───┘└───┘ ░      ┌─┴─┐┌─┴─┐┌─┴─┐┌─┴─┐┌─┴─┐┌─┴─┐┌─┴─┐      ░        │  »\n",
       "q9_4: ───────────░──────┤ X ├┤ X ├┤ X ├┤ X ├┤ X ├┤ X ├┤ X ├──────░────────┼──»\n",
       "                 ░      └───┘└───┘└───┘└───┘└───┘└───┘└───┘      ░      ┌─┴─┐»\n",
       "q9_5: ───────────░───────────────────────────────────────────────░──────┤ X ├»\n",
       "                 ░                                               ░      └───┘»\n",
       "q9_6: ───────────░───────────────────────────────────────────────░───────────»\n",
       "                 ░                                               ░           »\n",
       "q9_7: ───────────░───────────────────────────────────────────────░───────────»\n",
       "                 ░                                               ░           »\n",
       "c1: 3/═══════════════════════════════════════════════════════════════════════»\n",
       "                                                                             »\n",
       "«                                          ░                               »\n",
       "«q9_0: ────────────■─────────■────■────────░────────■──────────────■───────»\n",
       "«                  │         │    │  ┌───┐ ░        │              │       »\n",
       "«q9_1: ──■─────────■────■────┼────■──┤ X ├─░────────┼────■─────────■────■──»\n",
       "«        │         │    │    │    │  ├───┤ ░ ┌───┐  │    │         │    │  »\n",
       "«q9_2: ──┼────■────┼────■────■────■──┤ X ├─░─┤ X ├──┼────┼────■────┼────■──»\n",
       "«        │    │    │    │    │    │  └───┘ ░ └───┘  │    │    │    │    │  »\n",
       "«q9_3: ──┼────┼────┼────┼────┼────┼────────░────────┼────┼────┼────┼────┼──»\n",
       "«        │    │    │    │    │    │        ░        │    │    │    │    │  »\n",
       "«q9_4: ──┼────┼────┼────┼────┼────┼────────░────────┼────┼────┼────┼────┼──»\n",
       "«      ┌─┴─┐┌─┴─┐┌─┴─┐┌─┴─┐┌─┴─┐┌─┴─┐      ░        │    │    │    │    │  »\n",
       "«q9_5: ┤ X ├┤ X ├┤ X ├┤ X ├┤ X ├┤ X ├──────░────────┼────┼────┼────┼────┼──»\n",
       "«      └───┘└───┘└───┘└───┘└───┘└───┘      ░      ┌─┴─┐┌─┴─┐┌─┴─┐┌─┴─┐┌─┴─┐»\n",
       "«q9_6: ────────────────────────────────────░──────┤ X ├┤ X ├┤ X ├┤ X ├┤ X ├»\n",
       "«                                          ░      └───┘└───┘└───┘└───┘└───┘»\n",
       "«q9_7: ────────────────────────────────────░───────────────────────────────»\n",
       "«                                          ░                               »\n",
       "«c1: 3/════════════════════════════════════════════════════════════════════»\n",
       "«                                                                          »\n",
       "«                      ░       ░ \n",
       "«q9_0: ──■────■────────░───────░─\n",
       "«        │    │        ░       ░ \n",
       "«q9_1: ──┼────■────────░───────░─\n",
       "«        │    │  ┌───┐ ░       ░ \n",
       "«q9_2: ──■────■──┤ X ├─░───────░─\n",
       "«        │    │  └───┘ ░ ┌───┐ ░ \n",
       "«q9_3: ──┼────┼────────░─┤ X ├─░─\n",
       "«        │    │        ░ └─┬─┘ ░ \n",
       "«q9_4: ──┼────┼────────░───■───░─\n",
       "«        │    │        ░   │   ░ \n",
       "«q9_5: ──┼────┼────────░───■───░─\n",
       "«      ┌─┴─┐┌─┴─┐      ░   │   ░ \n",
       "«q9_6: ┤ X ├┤ X ├──────░───■───░─\n",
       "«      └───┘└───┘      ░       ░ \n",
       "«q9_7: ────────────────░───────░─\n",
       "«                      ░       ░ \n",
       "«c1: 3/══════════════════════════\n",
       "«                                "
      ]
     },
     "execution_count": 20,
     "metadata": {},
     "output_type": "execute_result"
    }
   ],
   "source": [
    "qc.mct([4, 5, 6], 3 , 7)\n",
    "qc.barrier()\n",
    "qc.draw()"
   ]
  },
  {
   "cell_type": "markdown",
   "metadata": {},
   "source": [
    "### Amplitude Amplification"
   ]
  },
  {
   "cell_type": "markdown",
   "metadata": {},
   "source": [
    "Let us now apply the diffusion operator to amplify the amplitude of our solutions"
   ]
  },
  {
   "cell_type": "code",
   "execution_count": 21,
   "metadata": {},
   "outputs": [
    {
     "data": {
      "text/html": [
       "<pre style=\"word-wrap: normal;white-space: pre;background: #fff0;line-height: 1.1;font-family: &quot;Courier New&quot;,Courier,monospace\">      ┌───┐      ░ ┌───┐                                   ┌───┐ ░           »\n",
       "q9_0: ┤ H ├──────░─┤ X ├──■──────────────■─────────■────■──┤ X ├─░────────■──»\n",
       "      ├───┤      ░ └───┘  │              │         │    │  └───┘ ░ ┌───┐  │  »\n",
       "q9_1: ┤ H ├──────░────────┼────■─────────■────■────┼────■────────░─┤ X ├──┼──»\n",
       "      ├───┤      ░        │    │         │    │    │    │        ░ ├───┤  │  »\n",
       "q9_2: ┤ H ├──────░────────┼────┼────■────┼────■────■────■────────░─┤ X ├──┼──»\n",
       "      ├───┤┌───┐ ░        │    │    │    │    │    │    │        ░ └───┘  │  »\n",
       "q9_3: ┤ X ├┤ H ├─░────────┼────┼────┼────┼────┼────┼────┼────────░────────┼──»\n",
       "      └───┘└───┘ ░      ┌─┴─┐┌─┴─┐┌─┴─┐┌─┴─┐┌─┴─┐┌─┴─┐┌─┴─┐      ░        │  »\n",
       "q9_4: ───────────░──────┤ X ├┤ X ├┤ X ├┤ X ├┤ X ├┤ X ├┤ X ├──────░────────┼──»\n",
       "                 ░      └───┘└───┘└───┘└───┘└───┘└───┘└───┘      ░      ┌─┴─┐»\n",
       "q9_5: ───────────░───────────────────────────────────────────────░──────┤ X ├»\n",
       "                 ░                                               ░      └───┘»\n",
       "q9_6: ───────────░───────────────────────────────────────────────░───────────»\n",
       "                 ░                                               ░           »\n",
       "q9_7: ───────────░───────────────────────────────────────────────░───────────»\n",
       "                 ░                                               ░           »\n",
       "c1: 3/═══════════════════════════════════════════════════════════════════════»\n",
       "                                                                             »\n",
       "«                                          ░                               »\n",
       "«q9_0: ────────────■─────────■────■────────░────────■──────────────■───────»\n",
       "«                  │         │    │  ┌───┐ ░        │              │       »\n",
       "«q9_1: ──■─────────■────■────┼────■──┤ X ├─░────────┼────■─────────■────■──»\n",
       "«        │         │    │    │    │  ├───┤ ░ ┌───┐  │    │         │    │  »\n",
       "«q9_2: ──┼────■────┼────■────■────■──┤ X ├─░─┤ X ├──┼────┼────■────┼────■──»\n",
       "«        │    │    │    │    │    │  └───┘ ░ └───┘  │    │    │    │    │  »\n",
       "«q9_3: ──┼────┼────┼────┼────┼────┼────────░────────┼────┼────┼────┼────┼──»\n",
       "«        │    │    │    │    │    │        ░        │    │    │    │    │  »\n",
       "«q9_4: ──┼────┼────┼────┼────┼────┼────────░────────┼────┼────┼────┼────┼──»\n",
       "«      ┌─┴─┐┌─┴─┐┌─┴─┐┌─┴─┐┌─┴─┐┌─┴─┐      ░        │    │    │    │    │  »\n",
       "«q9_5: ┤ X ├┤ X ├┤ X ├┤ X ├┤ X ├┤ X ├──────░────────┼────┼────┼────┼────┼──»\n",
       "«      └───┘└───┘└───┘└───┘└───┘└───┘      ░      ┌─┴─┐┌─┴─┐┌─┴─┐┌─┴─┐┌─┴─┐»\n",
       "«q9_6: ────────────────────────────────────░──────┤ X ├┤ X ├┤ X ├┤ X ├┤ X ├»\n",
       "«                                          ░      └───┘└───┘└───┘└───┘└───┘»\n",
       "«q9_7: ────────────────────────────────────░───────────────────────────────»\n",
       "«                                          ░                               »\n",
       "«c1: 3/════════════════════════════════════════════════════════════════════»\n",
       "«                                                                          »\n",
       "«                      ░       ░  ░ ┌───┐┌───┐ ░       ░       ░       ░ ┌───┐»\n",
       "«q9_0: ──■────■────────░───────░──░─┤ H ├┤ X ├─░───────░───■───░───────░─┤ X ├»\n",
       "«        │    │        ░       ░  ░ ├───┤├───┤ ░       ░   │   ░       ░ ├───┤»\n",
       "«q9_1: ──┼────■────────░───────░──░─┤ H ├┤ X ├─░───────░───■───░───────░─┤ X ├»\n",
       "«        │    │  ┌───┐ ░       ░  ░ ├───┤├───┤ ░ ┌───┐ ░ ┌─┴─┐ ░ ┌───┐ ░ ├───┤»\n",
       "«q9_2: ──■────■──┤ X ├─░───────░──░─┤ H ├┤ X ├─░─┤ H ├─░─┤ X ├─░─┤ H ├─░─┤ X ├»\n",
       "«        │    │  └───┘ ░ ┌───┐ ░  ░ └───┘└───┘ ░ └───┘ ░ └───┘ ░ └───┘ ░ └───┘»\n",
       "«q9_3: ──┼────┼────────░─┤ X ├─░──░────────────░───────░───────░───────░──────»\n",
       "«        │    │        ░ └─┬─┘ ░  ░            ░       ░       ░       ░      »\n",
       "«q9_4: ──┼────┼────────░───■───░──░────────────░───────░───────░───────░──────»\n",
       "«        │    │        ░   │   ░  ░            ░       ░       ░       ░      »\n",
       "«q9_5: ──┼────┼────────░───■───░──░────────────░───────░───────░───────░──────»\n",
       "«      ┌─┴─┐┌─┴─┐      ░   │   ░  ░            ░       ░       ░       ░      »\n",
       "«q9_6: ┤ X ├┤ X ├──────░───■───░──░────────────░───────░───────░───────░──────»\n",
       "«      └───┘└───┘      ░       ░  ░            ░       ░       ░       ░      »\n",
       "«q9_7: ────────────────░───────░──░────────────░───────░───────░───────░──────»\n",
       "«                      ░       ░  ░            ░       ░       ░       ░      »\n",
       "«c1: 3/═══════════════════════════════════════════════════════════════════════»\n",
       "«                                                                             »\n",
       "«      ┌───┐ ░ \n",
       "«q9_0: ┤ H ├─░─\n",
       "«      ├───┤ ░ \n",
       "«q9_1: ┤ H ├─░─\n",
       "«      ├───┤ ░ \n",
       "«q9_2: ┤ H ├─░─\n",
       "«      └───┘ ░ \n",
       "«q9_3: ──────░─\n",
       "«            ░ \n",
       "«q9_4: ──────░─\n",
       "«            ░ \n",
       "«q9_5: ──────░─\n",
       "«            ░ \n",
       "«q9_6: ──────░─\n",
       "«            ░ \n",
       "«q9_7: ──────░─\n",
       "«            ░ \n",
       "«c1: 3/════════\n",
       "«              </pre>"
      ],
      "text/plain": [
       "      ┌───┐      ░ ┌───┐                                   ┌───┐ ░           »\n",
       "q9_0: ┤ H ├──────░─┤ X ├──■──────────────■─────────■────■──┤ X ├─░────────■──»\n",
       "      ├───┤      ░ └───┘  │              │         │    │  └───┘ ░ ┌───┐  │  »\n",
       "q9_1: ┤ H ├──────░────────┼────■─────────■────■────┼────■────────░─┤ X ├──┼──»\n",
       "      ├───┤      ░        │    │         │    │    │    │        ░ ├───┤  │  »\n",
       "q9_2: ┤ H ├──────░────────┼────┼────■────┼────■────■────■────────░─┤ X ├──┼──»\n",
       "      ├───┤┌───┐ ░        │    │    │    │    │    │    │        ░ └───┘  │  »\n",
       "q9_3: ┤ X ├┤ H ├─░────────┼────┼────┼────┼────┼────┼────┼────────░────────┼──»\n",
       "      └───┘└───┘ ░      ┌─┴─┐┌─┴─┐┌─┴─┐┌─┴─┐┌─┴─┐┌─┴─┐┌─┴─┐      ░        │  »\n",
       "q9_4: ───────────░──────┤ X ├┤ X ├┤ X ├┤ X ├┤ X ├┤ X ├┤ X ├──────░────────┼──»\n",
       "                 ░      └───┘└───┘└───┘└───┘└───┘└───┘└───┘      ░      ┌─┴─┐»\n",
       "q9_5: ───────────░───────────────────────────────────────────────░──────┤ X ├»\n",
       "                 ░                                               ░      └───┘»\n",
       "q9_6: ───────────░───────────────────────────────────────────────░───────────»\n",
       "                 ░                                               ░           »\n",
       "q9_7: ───────────░───────────────────────────────────────────────░───────────»\n",
       "                 ░                                               ░           »\n",
       "c1: 3/═══════════════════════════════════════════════════════════════════════»\n",
       "                                                                             »\n",
       "«                                          ░                               »\n",
       "«q9_0: ────────────■─────────■────■────────░────────■──────────────■───────»\n",
       "«                  │         │    │  ┌───┐ ░        │              │       »\n",
       "«q9_1: ──■─────────■────■────┼────■──┤ X ├─░────────┼────■─────────■────■──»\n",
       "«        │         │    │    │    │  ├───┤ ░ ┌───┐  │    │         │    │  »\n",
       "«q9_2: ──┼────■────┼────■────■────■──┤ X ├─░─┤ X ├──┼────┼────■────┼────■──»\n",
       "«        │    │    │    │    │    │  └───┘ ░ └───┘  │    │    │    │    │  »\n",
       "«q9_3: ──┼────┼────┼────┼────┼────┼────────░────────┼────┼────┼────┼────┼──»\n",
       "«        │    │    │    │    │    │        ░        │    │    │    │    │  »\n",
       "«q9_4: ──┼────┼────┼────┼────┼────┼────────░────────┼────┼────┼────┼────┼──»\n",
       "«      ┌─┴─┐┌─┴─┐┌─┴─┐┌─┴─┐┌─┴─┐┌─┴─┐      ░        │    │    │    │    │  »\n",
       "«q9_5: ┤ X ├┤ X ├┤ X ├┤ X ├┤ X ├┤ X ├──────░────────┼────┼────┼────┼────┼──»\n",
       "«      └───┘└───┘└───┘└───┘└───┘└───┘      ░      ┌─┴─┐┌─┴─┐┌─┴─┐┌─┴─┐┌─┴─┐»\n",
       "«q9_6: ────────────────────────────────────░──────┤ X ├┤ X ├┤ X ├┤ X ├┤ X ├»\n",
       "«                                          ░      └───┘└───┘└───┘└───┘└───┘»\n",
       "«q9_7: ────────────────────────────────────░───────────────────────────────»\n",
       "«                                          ░                               »\n",
       "«c1: 3/════════════════════════════════════════════════════════════════════»\n",
       "«                                                                          »\n",
       "«                      ░       ░  ░ ┌───┐┌───┐ ░       ░       ░       ░ ┌───┐»\n",
       "«q9_0: ──■────■────────░───────░──░─┤ H ├┤ X ├─░───────░───■───░───────░─┤ X ├»\n",
       "«        │    │        ░       ░  ░ ├───┤├───┤ ░       ░   │   ░       ░ ├───┤»\n",
       "«q9_1: ──┼────■────────░───────░──░─┤ H ├┤ X ├─░───────░───■───░───────░─┤ X ├»\n",
       "«        │    │  ┌───┐ ░       ░  ░ ├───┤├───┤ ░ ┌───┐ ░ ┌─┴─┐ ░ ┌───┐ ░ ├───┤»\n",
       "«q9_2: ──■────■──┤ X ├─░───────░──░─┤ H ├┤ X ├─░─┤ H ├─░─┤ X ├─░─┤ H ├─░─┤ X ├»\n",
       "«        │    │  └───┘ ░ ┌───┐ ░  ░ └───┘└───┘ ░ └───┘ ░ └───┘ ░ └───┘ ░ └───┘»\n",
       "«q9_3: ──┼────┼────────░─┤ X ├─░──░────────────░───────░───────░───────░──────»\n",
       "«        │    │        ░ └─┬─┘ ░  ░            ░       ░       ░       ░      »\n",
       "«q9_4: ──┼────┼────────░───■───░──░────────────░───────░───────░───────░──────»\n",
       "«        │    │        ░   │   ░  ░            ░       ░       ░       ░      »\n",
       "«q9_5: ──┼────┼────────░───■───░──░────────────░───────░───────░───────░──────»\n",
       "«      ┌─┴─┐┌─┴─┐      ░   │   ░  ░            ░       ░       ░       ░      »\n",
       "«q9_6: ┤ X ├┤ X ├──────░───■───░──░────────────░───────░───────░───────░──────»\n",
       "«      └───┘└───┘      ░       ░  ░            ░       ░       ░       ░      »\n",
       "«q9_7: ────────────────░───────░──░────────────░───────░───────░───────░──────»\n",
       "«                      ░       ░  ░            ░       ░       ░       ░      »\n",
       "«c1: 3/═══════════════════════════════════════════════════════════════════════»\n",
       "«                                                                             »\n",
       "«      ┌───┐ ░ \n",
       "«q9_0: ┤ H ├─░─\n",
       "«      ├───┤ ░ \n",
       "«q9_1: ┤ H ├─░─\n",
       "«      ├───┤ ░ \n",
       "«q9_2: ┤ H ├─░─\n",
       "«      └───┘ ░ \n",
       "«q9_3: ──────░─\n",
       "«            ░ \n",
       "«q9_4: ──────░─\n",
       "«            ░ \n",
       "«q9_5: ──────░─\n",
       "«            ░ \n",
       "«q9_6: ──────░─\n",
       "«            ░ \n",
       "«q9_7: ──────░─\n",
       "«            ░ \n",
       "«c1: 3/════════\n",
       "«              "
      ]
     },
     "execution_count": 21,
     "metadata": {},
     "output_type": "execute_result"
    }
   ],
   "source": [
    "qc.barrier(q)\n",
    "qc.h(q[0:3])\n",
    "qc.x(q[0:3])\n",
    "qc.barrier(q)\n",
    "qc.h(q[2])\n",
    "qc.barrier(q)\n",
    "qc.mct([q[0], q[1]], q[2], q[7])   \n",
    "qc.barrier(q)\n",
    "qc.h(q[2])\n",
    "qc.barrier(q)\n",
    "qc.x(q[0:3])\n",
    "qc.h(q[0:3])\n",
    "qc.barrier(q)\n",
    "qc.draw()"
   ]
  },
  {
   "cell_type": "markdown",
   "metadata": {},
   "source": [
    "### Adding Measurements"
   ]
  },
  {
   "cell_type": "markdown",
   "metadata": {},
   "source": [
    "After adding the measurements, this is the final circuit: "
   ]
  },
  {
   "cell_type": "code",
   "execution_count": 22,
   "metadata": {},
   "outputs": [
    {
     "data": {
      "text/html": [
       "<pre style=\"word-wrap: normal;white-space: pre;background: #fff0;line-height: 1.1;font-family: &quot;Courier New&quot;,Courier,monospace\">      ┌───┐      ░ ┌───┐                                   ┌───┐ ░           »\n",
       "q9_0: ┤ H ├──────░─┤ X ├──■──────────────■─────────■────■──┤ X ├─░────────■──»\n",
       "      ├───┤      ░ └───┘  │              │         │    │  └───┘ ░ ┌───┐  │  »\n",
       "q9_1: ┤ H ├──────░────────┼────■─────────■────■────┼────■────────░─┤ X ├──┼──»\n",
       "      ├───┤      ░        │    │         │    │    │    │        ░ ├───┤  │  »\n",
       "q9_2: ┤ H ├──────░────────┼────┼────■────┼────■────■────■────────░─┤ X ├──┼──»\n",
       "      ├───┤┌───┐ ░        │    │    │    │    │    │    │        ░ └───┘  │  »\n",
       "q9_3: ┤ X ├┤ H ├─░────────┼────┼────┼────┼────┼────┼────┼────────░────────┼──»\n",
       "      └───┘└───┘ ░      ┌─┴─┐┌─┴─┐┌─┴─┐┌─┴─┐┌─┴─┐┌─┴─┐┌─┴─┐      ░        │  »\n",
       "q9_4: ───────────░──────┤ X ├┤ X ├┤ X ├┤ X ├┤ X ├┤ X ├┤ X ├──────░────────┼──»\n",
       "                 ░      └───┘└───┘└───┘└───┘└───┘└───┘└───┘      ░      ┌─┴─┐»\n",
       "q9_5: ───────────░───────────────────────────────────────────────░──────┤ X ├»\n",
       "                 ░                                               ░      └───┘»\n",
       "q9_6: ───────────░───────────────────────────────────────────────░───────────»\n",
       "                 ░                                               ░           »\n",
       "q9_7: ───────────░───────────────────────────────────────────────░───────────»\n",
       "                 ░                                               ░           »\n",
       "c1: 3/═══════════════════════════════════════════════════════════════════════»\n",
       "                                                                             »\n",
       "«                                          ░                               »\n",
       "«q9_0: ────────────■─────────■────■────────░────────■──────────────■───────»\n",
       "«                  │         │    │  ┌───┐ ░        │              │       »\n",
       "«q9_1: ──■─────────■────■────┼────■──┤ X ├─░────────┼────■─────────■────■──»\n",
       "«        │         │    │    │    │  ├───┤ ░ ┌───┐  │    │         │    │  »\n",
       "«q9_2: ──┼────■────┼────■────■────■──┤ X ├─░─┤ X ├──┼────┼────■────┼────■──»\n",
       "«        │    │    │    │    │    │  └───┘ ░ └───┘  │    │    │    │    │  »\n",
       "«q9_3: ──┼────┼────┼────┼────┼────┼────────░────────┼────┼────┼────┼────┼──»\n",
       "«        │    │    │    │    │    │        ░        │    │    │    │    │  »\n",
       "«q9_4: ──┼────┼────┼────┼────┼────┼────────░────────┼────┼────┼────┼────┼──»\n",
       "«      ┌─┴─┐┌─┴─┐┌─┴─┐┌─┴─┐┌─┴─┐┌─┴─┐      ░        │    │    │    │    │  »\n",
       "«q9_5: ┤ X ├┤ X ├┤ X ├┤ X ├┤ X ├┤ X ├──────░────────┼────┼────┼────┼────┼──»\n",
       "«      └───┘└───┘└───┘└───┘└───┘└───┘      ░      ┌─┴─┐┌─┴─┐┌─┴─┐┌─┴─┐┌─┴─┐»\n",
       "«q9_6: ────────────────────────────────────░──────┤ X ├┤ X ├┤ X ├┤ X ├┤ X ├»\n",
       "«                                          ░      └───┘└───┘└───┘└───┘└───┘»\n",
       "«q9_7: ────────────────────────────────────░───────────────────────────────»\n",
       "«                                          ░                               »\n",
       "«c1: 3/════════════════════════════════════════════════════════════════════»\n",
       "«                                                                          »\n",
       "«                      ░       ░  ░ ┌───┐┌───┐ ░       ░       ░       ░ ┌───┐»\n",
       "«q9_0: ──■────■────────░───────░──░─┤ H ├┤ X ├─░───────░───■───░───────░─┤ X ├»\n",
       "«        │    │        ░       ░  ░ ├───┤├───┤ ░       ░   │   ░       ░ ├───┤»\n",
       "«q9_1: ──┼────■────────░───────░──░─┤ H ├┤ X ├─░───────░───■───░───────░─┤ X ├»\n",
       "«        │    │  ┌───┐ ░       ░  ░ ├───┤├───┤ ░ ┌───┐ ░ ┌─┴─┐ ░ ┌───┐ ░ ├───┤»\n",
       "«q9_2: ──■────■──┤ X ├─░───────░──░─┤ H ├┤ X ├─░─┤ H ├─░─┤ X ├─░─┤ H ├─░─┤ X ├»\n",
       "«        │    │  └───┘ ░ ┌───┐ ░  ░ └───┘└───┘ ░ └───┘ ░ └───┘ ░ └───┘ ░ └───┘»\n",
       "«q9_3: ──┼────┼────────░─┤ X ├─░──░────────────░───────░───────░───────░──────»\n",
       "«        │    │        ░ └─┬─┘ ░  ░            ░       ░       ░       ░      »\n",
       "«q9_4: ──┼────┼────────░───■───░──░────────────░───────░───────░───────░──────»\n",
       "«        │    │        ░   │   ░  ░            ░       ░       ░       ░      »\n",
       "«q9_5: ──┼────┼────────░───■───░──░────────────░───────░───────░───────░──────»\n",
       "«      ┌─┴─┐┌─┴─┐      ░   │   ░  ░            ░       ░       ░       ░      »\n",
       "«q9_6: ┤ X ├┤ X ├──────░───■───░──░────────────░───────░───────░───────░──────»\n",
       "«      └───┘└───┘      ░       ░  ░            ░       ░       ░       ░      »\n",
       "«q9_7: ────────────────░───────░──░────────────░───────░───────░───────░──────»\n",
       "«                      ░       ░  ░            ░       ░       ░       ░      »\n",
       "«c1: 3/═══════════════════════════════════════════════════════════════════════»\n",
       "«                                                                             »\n",
       "«      ┌───┐ ░ ┌─┐      \n",
       "«q9_0: ┤ H ├─░─┤M├──────\n",
       "«      ├───┤ ░ └╥┘┌─┐   \n",
       "«q9_1: ┤ H ├─░──╫─┤M├───\n",
       "«      ├───┤ ░  ║ └╥┘┌─┐\n",
       "«q9_2: ┤ H ├─░──╫──╫─┤M├\n",
       "«      └───┘ ░  ║  ║ └╥┘\n",
       "«q9_3: ──────░──╫──╫──╫─\n",
       "«            ░  ║  ║  ║ \n",
       "«q9_4: ──────░──╫──╫──╫─\n",
       "«            ░  ║  ║  ║ \n",
       "«q9_5: ──────░──╫──╫──╫─\n",
       "«            ░  ║  ║  ║ \n",
       "«q9_6: ──────░──╫──╫──╫─\n",
       "«            ░  ║  ║  ║ \n",
       "«q9_7: ──────░──╫──╫──╫─\n",
       "«            ░  ║  ║  ║ \n",
       "«c1: 3/═════════╩══╩══╩═\n",
       "«               0  1  2 </pre>"
      ],
      "text/plain": [
       "      ┌───┐      ░ ┌───┐                                   ┌───┐ ░           »\n",
       "q9_0: ┤ H ├──────░─┤ X ├──■──────────────■─────────■────■──┤ X ├─░────────■──»\n",
       "      ├───┤      ░ └───┘  │              │         │    │  └───┘ ░ ┌───┐  │  »\n",
       "q9_1: ┤ H ├──────░────────┼────■─────────■────■────┼────■────────░─┤ X ├──┼──»\n",
       "      ├───┤      ░        │    │         │    │    │    │        ░ ├───┤  │  »\n",
       "q9_2: ┤ H ├──────░────────┼────┼────■────┼────■────■────■────────░─┤ X ├──┼──»\n",
       "      ├───┤┌───┐ ░        │    │    │    │    │    │    │        ░ └───┘  │  »\n",
       "q9_3: ┤ X ├┤ H ├─░────────┼────┼────┼────┼────┼────┼────┼────────░────────┼──»\n",
       "      └───┘└───┘ ░      ┌─┴─┐┌─┴─┐┌─┴─┐┌─┴─┐┌─┴─┐┌─┴─┐┌─┴─┐      ░        │  »\n",
       "q9_4: ───────────░──────┤ X ├┤ X ├┤ X ├┤ X ├┤ X ├┤ X ├┤ X ├──────░────────┼──»\n",
       "                 ░      └───┘└───┘└───┘└───┘└───┘└───┘└───┘      ░      ┌─┴─┐»\n",
       "q9_5: ───────────░───────────────────────────────────────────────░──────┤ X ├»\n",
       "                 ░                                               ░      └───┘»\n",
       "q9_6: ───────────░───────────────────────────────────────────────░───────────»\n",
       "                 ░                                               ░           »\n",
       "q9_7: ───────────░───────────────────────────────────────────────░───────────»\n",
       "                 ░                                               ░           »\n",
       "c1: 3/═══════════════════════════════════════════════════════════════════════»\n",
       "                                                                             »\n",
       "«                                          ░                               »\n",
       "«q9_0: ────────────■─────────■────■────────░────────■──────────────■───────»\n",
       "«                  │         │    │  ┌───┐ ░        │              │       »\n",
       "«q9_1: ──■─────────■────■────┼────■──┤ X ├─░────────┼────■─────────■────■──»\n",
       "«        │         │    │    │    │  ├───┤ ░ ┌───┐  │    │         │    │  »\n",
       "«q9_2: ──┼────■────┼────■────■────■──┤ X ├─░─┤ X ├──┼────┼────■────┼────■──»\n",
       "«        │    │    │    │    │    │  └───┘ ░ └───┘  │    │    │    │    │  »\n",
       "«q9_3: ──┼────┼────┼────┼────┼────┼────────░────────┼────┼────┼────┼────┼──»\n",
       "«        │    │    │    │    │    │        ░        │    │    │    │    │  »\n",
       "«q9_4: ──┼────┼────┼────┼────┼────┼────────░────────┼────┼────┼────┼────┼──»\n",
       "«      ┌─┴─┐┌─┴─┐┌─┴─┐┌─┴─┐┌─┴─┐┌─┴─┐      ░        │    │    │    │    │  »\n",
       "«q9_5: ┤ X ├┤ X ├┤ X ├┤ X ├┤ X ├┤ X ├──────░────────┼────┼────┼────┼────┼──»\n",
       "«      └───┘└───┘└───┘└───┘└───┘└───┘      ░      ┌─┴─┐┌─┴─┐┌─┴─┐┌─┴─┐┌─┴─┐»\n",
       "«q9_6: ────────────────────────────────────░──────┤ X ├┤ X ├┤ X ├┤ X ├┤ X ├»\n",
       "«                                          ░      └───┘└───┘└───┘└───┘└───┘»\n",
       "«q9_7: ────────────────────────────────────░───────────────────────────────»\n",
       "«                                          ░                               »\n",
       "«c1: 3/════════════════════════════════════════════════════════════════════»\n",
       "«                                                                          »\n",
       "«                      ░       ░  ░ ┌───┐┌───┐ ░       ░       ░       ░ ┌───┐»\n",
       "«q9_0: ──■────■────────░───────░──░─┤ H ├┤ X ├─░───────░───■───░───────░─┤ X ├»\n",
       "«        │    │        ░       ░  ░ ├───┤├───┤ ░       ░   │   ░       ░ ├───┤»\n",
       "«q9_1: ──┼────■────────░───────░──░─┤ H ├┤ X ├─░───────░───■───░───────░─┤ X ├»\n",
       "«        │    │  ┌───┐ ░       ░  ░ ├───┤├───┤ ░ ┌───┐ ░ ┌─┴─┐ ░ ┌───┐ ░ ├───┤»\n",
       "«q9_2: ──■────■──┤ X ├─░───────░──░─┤ H ├┤ X ├─░─┤ H ├─░─┤ X ├─░─┤ H ├─░─┤ X ├»\n",
       "«        │    │  └───┘ ░ ┌───┐ ░  ░ └───┘└───┘ ░ └───┘ ░ └───┘ ░ └───┘ ░ └───┘»\n",
       "«q9_3: ──┼────┼────────░─┤ X ├─░──░────────────░───────░───────░───────░──────»\n",
       "«        │    │        ░ └─┬─┘ ░  ░            ░       ░       ░       ░      »\n",
       "«q9_4: ──┼────┼────────░───■───░──░────────────░───────░───────░───────░──────»\n",
       "«        │    │        ░   │   ░  ░            ░       ░       ░       ░      »\n",
       "«q9_5: ──┼────┼────────░───■───░──░────────────░───────░───────░───────░──────»\n",
       "«      ┌─┴─┐┌─┴─┐      ░   │   ░  ░            ░       ░       ░       ░      »\n",
       "«q9_6: ┤ X ├┤ X ├──────░───■───░──░────────────░───────░───────░───────░──────»\n",
       "«      └───┘└───┘      ░       ░  ░            ░       ░       ░       ░      »\n",
       "«q9_7: ────────────────░───────░──░────────────░───────░───────░───────░──────»\n",
       "«                      ░       ░  ░            ░       ░       ░       ░      »\n",
       "«c1: 3/═══════════════════════════════════════════════════════════════════════»\n",
       "«                                                                             »\n",
       "«      ┌───┐ ░ ┌─┐      \n",
       "«q9_0: ┤ H ├─░─┤M├──────\n",
       "«      ├───┤ ░ └╥┘┌─┐   \n",
       "«q9_1: ┤ H ├─░──╫─┤M├───\n",
       "«      ├───┤ ░  ║ └╥┘┌─┐\n",
       "«q9_2: ┤ H ├─░──╫──╫─┤M├\n",
       "«      └───┘ ░  ║  ║ └╥┘\n",
       "«q9_3: ──────░──╫──╫──╫─\n",
       "«            ░  ║  ║  ║ \n",
       "«q9_4: ──────░──╫──╫──╫─\n",
       "«            ░  ║  ║  ║ \n",
       "«q9_5: ──────░──╫──╫──╫─\n",
       "«            ░  ║  ║  ║ \n",
       "«q9_6: ──────░──╫──╫──╫─\n",
       "«            ░  ║  ║  ║ \n",
       "«q9_7: ──────░──╫──╫──╫─\n",
       "«            ░  ║  ║  ║ \n",
       "«c1: 3/═════════╩══╩══╩═\n",
       "«               0  1  2 "
      ]
     },
     "execution_count": 22,
     "metadata": {},
     "output_type": "execute_result"
    }
   ],
   "source": [
    "qc.measure(q[0:3], c[0:3])\n",
    "qc.draw()"
   ]
  },
  {
   "cell_type": "markdown",
   "metadata": {},
   "source": [
    "### Running the circuit and cross-checking results"
   ]
  },
  {
   "cell_type": "code",
   "execution_count": 23,
   "metadata": {},
   "outputs": [
    {
     "name": "stdout",
     "output_type": "stream",
     "text": [
      "{'000': 35, '001': 289, '010': 29, '011': 25, '100': 294, '101': 28, '110': 271, '111': 29}\n"
     ]
    }
   ],
   "source": [
    "# running and getting results \n",
    "\n",
    "backend = Aer.get_backend('qasm_simulator')\n",
    "job = execute(qc, backend, shots=1000)\n",
    "\n",
    "# if you would like to use the wasm simulator on the cloud then comment the above lines and uncomment the lines below \n",
    "# backend = provider.get_backend('ibmq_qasm_simulator')\n",
    "# job = execute(qc, backend=backend, shots=8000, seed_simulator=12345, backend_options={\"fusion_enable\":True})\n",
    "result = job.result()\n",
    "count = result.get_counts()\n",
    "print(count)"
   ]
  },
  {
   "cell_type": "code",
   "execution_count": 24,
   "metadata": {},
   "outputs": [
    {
     "data": {
      "image/png": "[encoded data removed]",
      "text/plain": [
       "<Figure size 504x360 with 1 Axes>"
      ]
     },
     "execution_count": 24,
     "metadata": {},
     "output_type": "execute_result"
    }
   ],
   "source": [
    "plot_histogram(count)"
   ]
  },
  {
   "cell_type": "markdown",
   "metadata": {},
   "source": [
    "Hmmm, something seems wrong... We were expecting the results to be {|000>, |010>, |110>, |101> and |111>} however only those outputs have lesser probability and the ones we expected to have a lower probability are actually higher!"
   ]
  },
  {
   "cell_type": "markdown",
   "metadata": {},
   "source": [
    "### For the curious"
   ]
  },
  {
   "cell_type": "markdown",
   "metadata": {},
   "source": [
    "As you can see our results are exactly opposite of what we expected them to be. Your mission should you choose to accept it is to dig into the algorithm and figure out what went wrong. Further, find what should be done to change the situation and get back the probability distribution we are looking for. "
   ]
  },
  {
   "cell_type": "markdown",
   "metadata": {},
   "source": [
    "For your reference check out the notebook chapter on [Solving Satisfiability Problems using Grover's Algorithm](https://qiskit.org/textbook/ch-applications/satisfiability-grover.html) and use the in-built implementation of Grover's from qiskit Aqua to cross-check your results. "
   ]
  },
  {
   "cell_type": "markdown",
   "metadata": {},
   "source": [
    "**Hint**: Think about what parts of the algorithm affect probabilities"
   ]
  },
  {
   "cell_type": "markdown",
   "metadata": {},
   "source": [
    "Here are a few other things you can try to do: \n",
    "* try to reduce the cost of the circuit, i.e, by using lesser number of double qubit gates. \n",
    "* Repurpose this such that it works for any k-SAT problem"
   ]
  },
  {
   "cell_type": "markdown",
   "metadata": {},
   "source": [
    "If you would like to check the cost of your circuit as defined by **cost of the circuit = 1 $\\times$ number of single qubit gates + 10 $\\times$ number of cx gates** and can be calculated by the formula below taken from the [Qiskit Challenge 2019 notebook](https://github.com/quantum-challenge/2019/blob/master/problems/week1/week1_en.ipynb). "
   ]
  },
  {
   "cell_type": "code",
   "execution_count": 29,
   "metadata": {},
   "outputs": [],
   "source": [
    "from qiskit.transpiler import PassManager\n",
    "from qiskit.transpiler.passes import Unroller\n",
    " \n",
    "\n",
    "def circuit_cost(qc):\n",
    "    pass_ = Unroller(['u3', 'cx'])\n",
    "    pm = PassManager(pass_)\n",
    "    new_circuit = pm.run(qc)\n",
    "    count = new_circuit.count_ops()\n",
    "    print(count)\n",
    "    cost = int(qc.count_ops['u3']) + int(qc.count_ops['cx'])\n",
    "    print(\"Cost of the circuit is {}\".format(cost))\n",
    "    return cost"
   ]
  },
  {
   "cell_type": "code",
   "execution_count": 30,
   "metadata": {},
   "outputs": [
    {
     "ename": "QiskitError",
     "evalue": "\"Error decomposing node p: 'NoneType' object has no attribute 'data'\"",
     "output_type": "error",
     "traceback": [
      "\u001b[0;31m---------------------------------------------------------------------------\u001b[0m",
      "\u001b[0;31mAttributeError\u001b[0m                            Traceback (most recent call last)",
      "\u001b[0;32m~/Library/Python/3.8/lib/python/site-packages/qiskit/transpiler/passes/basis/unroller.py\u001b[0m in \u001b[0;36mrun\u001b[0;34m(self, dag)\u001b[0m\n\u001b[1;32m     82\u001b[0m                 \u001b[0;32mtry\u001b[0m\u001b[0;34m:\u001b[0m\u001b[0;34m\u001b[0m\u001b[0;34m\u001b[0m\u001b[0m\n\u001b[0;32m---> 83\u001b[0;31m                     \u001b[0mrule\u001b[0m \u001b[0;34m=\u001b[0m \u001b[0mrule\u001b[0m\u001b[0;34m[\u001b[0m\u001b[0;36m0\u001b[0m\u001b[0;34m]\u001b[0m\u001b[0;34m[\u001b[0m\u001b[0;36m0\u001b[0m\u001b[0;34m]\u001b[0m\u001b[0;34m.\u001b[0m\u001b[0mdefinition\u001b[0m\u001b[0;34m.\u001b[0m\u001b[0mdata\u001b[0m\u001b[0;34m\u001b[0m\u001b[0;34m\u001b[0m\u001b[0m\n\u001b[0m\u001b[1;32m     84\u001b[0m                 \u001b[0;32mexcept\u001b[0m \u001b[0;34m(\u001b[0m\u001b[0mTypeError\u001b[0m\u001b[0;34m,\u001b[0m \u001b[0mAttributeError\u001b[0m\u001b[0;34m)\u001b[0m \u001b[0;32mas\u001b[0m \u001b[0merr\u001b[0m\u001b[0;34m:\u001b[0m\u001b[0;34m\u001b[0m\u001b[0;34m\u001b[0m\u001b[0m\n",
      "\u001b[0;31mAttributeError\u001b[0m: 'NoneType' object has no attribute 'data'",
      "\nDuring handling of the above exception, another exception occurred:\n",
      "\u001b[0;31mQiskitError\u001b[0m                               Traceback (most recent call last)",
      "\u001b[0;32m<ipython-input-30-67236e048675>\u001b[0m in \u001b[0;36m<module>\u001b[0;34m\u001b[0m\n\u001b[0;32m----> 1\u001b[0;31m \u001b[0mcircuit_cost\u001b[0m\u001b[0;34m(\u001b[0m\u001b[0mqc\u001b[0m\u001b[0;34m)\u001b[0m\u001b[0;34m\u001b[0m\u001b[0;34m\u001b[0m\u001b[0m\n\u001b[0m",
      "\u001b[0;32m<ipython-input-29-7f353f63e109>\u001b[0m in \u001b[0;36mcircuit_cost\u001b[0;34m(qc)\u001b[0m\n\u001b[1;32m      6\u001b[0m     \u001b[0mpass_\u001b[0m \u001b[0;34m=\u001b[0m \u001b[0mUnroller\u001b[0m\u001b[0;34m(\u001b[0m\u001b[0;34m[\u001b[0m\u001b[0;34m'u3'\u001b[0m\u001b[0;34m,\u001b[0m \u001b[0;34m'cx'\u001b[0m\u001b[0;34m]\u001b[0m\u001b[0;34m)\u001b[0m\u001b[0;34m\u001b[0m\u001b[0;34m\u001b[0m\u001b[0m\n\u001b[1;32m      7\u001b[0m     \u001b[0mpm\u001b[0m \u001b[0;34m=\u001b[0m \u001b[0mPassManager\u001b[0m\u001b[0;34m(\u001b[0m\u001b[0mpass_\u001b[0m\u001b[0;34m)\u001b[0m\u001b[0;34m\u001b[0m\u001b[0;34m\u001b[0m\u001b[0m\n\u001b[0;32m----> 8\u001b[0;31m     \u001b[0mnew_circuit\u001b[0m \u001b[0;34m=\u001b[0m \u001b[0mpm\u001b[0m\u001b[0;34m.\u001b[0m\u001b[0mrun\u001b[0m\u001b[0;34m(\u001b[0m\u001b[0mqc\u001b[0m\u001b[0;34m)\u001b[0m\u001b[0;34m\u001b[0m\u001b[0;34m\u001b[0m\u001b[0m\n\u001b[0m\u001b[1;32m      9\u001b[0m     \u001b[0mcount\u001b[0m \u001b[0;34m=\u001b[0m \u001b[0mnew_circuit\u001b[0m\u001b[0;34m.\u001b[0m\u001b[0mcount_ops\u001b[0m\u001b[0;34m(\u001b[0m\u001b[0;34m)\u001b[0m\u001b[0;34m\u001b[0m\u001b[0;34m\u001b[0m\u001b[0m\n\u001b[1;32m     10\u001b[0m     \u001b[0mprint\u001b[0m\u001b[0;34m(\u001b[0m\u001b[0mcount\u001b[0m\u001b[0;34m)\u001b[0m\u001b[0;34m\u001b[0m\u001b[0;34m\u001b[0m\u001b[0m\n",
      "\u001b[0;32m~/Library/Python/3.8/lib/python/site-packages/qiskit/transpiler/passmanager.py\u001b[0m in \u001b[0;36mrun\u001b[0;34m(self, circuits, output_name, callback)\u001b[0m\n\u001b[1;32m    223\u001b[0m         \"\"\"\n\u001b[1;32m    224\u001b[0m         \u001b[0;32mif\u001b[0m \u001b[0misinstance\u001b[0m\u001b[0;34m(\u001b[0m\u001b[0mcircuits\u001b[0m\u001b[0;34m,\u001b[0m \u001b[0mQuantumCircuit\u001b[0m\u001b[0;34m)\u001b[0m\u001b[0;34m:\u001b[0m\u001b[0;34m\u001b[0m\u001b[0;34m\u001b[0m\u001b[0m\n\u001b[0;32m--> 225\u001b[0;31m             \u001b[0;32mreturn\u001b[0m \u001b[0mself\u001b[0m\u001b[0;34m.\u001b[0m\u001b[0m_run_single_circuit\u001b[0m\u001b[0;34m(\u001b[0m\u001b[0mcircuits\u001b[0m\u001b[0;34m,\u001b[0m \u001b[0moutput_name\u001b[0m\u001b[0;34m,\u001b[0m \u001b[0mcallback\u001b[0m\u001b[0;34m)\u001b[0m\u001b[0;34m\u001b[0m\u001b[0;34m\u001b[0m\u001b[0m\n\u001b[0m\u001b[1;32m    226\u001b[0m         \u001b[0;32melif\u001b[0m \u001b[0mlen\u001b[0m\u001b[0;34m(\u001b[0m\u001b[0mcircuits\u001b[0m\u001b[0;34m)\u001b[0m \u001b[0;34m==\u001b[0m \u001b[0;36m1\u001b[0m\u001b[0;34m:\u001b[0m\u001b[0;34m\u001b[0m\u001b[0;34m\u001b[0m\u001b[0m\n\u001b[1;32m    227\u001b[0m             \u001b[0;32mreturn\u001b[0m \u001b[0mself\u001b[0m\u001b[0;34m.\u001b[0m\u001b[0m_run_single_circuit\u001b[0m\u001b[0;34m(\u001b[0m\u001b[0mcircuits\u001b[0m\u001b[0;34m[\u001b[0m\u001b[0;36m0\u001b[0m\u001b[0;34m]\u001b[0m\u001b[0;34m,\u001b[0m \u001b[0moutput_name\u001b[0m\u001b[0;34m,\u001b[0m \u001b[0mcallback\u001b[0m\u001b[0;34m)\u001b[0m\u001b[0;34m\u001b[0m\u001b[0;34m\u001b[0m\u001b[0m\n",
      "\u001b[0;32m~/Library/Python/3.8/lib/python/site-packages/qiskit/transpiler/passmanager.py\u001b[0m in \u001b[0;36m_run_single_circuit\u001b[0;34m(self, circuit, output_name, callback)\u001b[0m\n\u001b[1;32m    286\u001b[0m         \u001b[0;32mif\u001b[0m \u001b[0mcallback\u001b[0m \u001b[0;32mis\u001b[0m \u001b[0;32mNone\u001b[0m \u001b[0;32mand\u001b[0m \u001b[0mself\u001b[0m\u001b[0;34m.\u001b[0m\u001b[0mcallback\u001b[0m\u001b[0;34m:\u001b[0m  \u001b[0;31m# TODO to remove with __init__(callback)\u001b[0m\u001b[0;34m\u001b[0m\u001b[0;34m\u001b[0m\u001b[0m\n\u001b[1;32m    287\u001b[0m             \u001b[0mcallback\u001b[0m \u001b[0;34m=\u001b[0m \u001b[0mself\u001b[0m\u001b[0;34m.\u001b[0m\u001b[0mcallback\u001b[0m\u001b[0;34m\u001b[0m\u001b[0;34m\u001b[0m\u001b[0m\n\u001b[0;32m--> 288\u001b[0;31m         \u001b[0mresult\u001b[0m \u001b[0;34m=\u001b[0m \u001b[0mrunning_passmanager\u001b[0m\u001b[0;34m.\u001b[0m\u001b[0mrun\u001b[0m\u001b[0;34m(\u001b[0m\u001b[0mcircuit\u001b[0m\u001b[0;34m,\u001b[0m \u001b[0moutput_name\u001b[0m\u001b[0;34m=\u001b[0m\u001b[0moutput_name\u001b[0m\u001b[0;34m,\u001b[0m \u001b[0mcallback\u001b[0m\u001b[0;34m=\u001b[0m\u001b[0mcallback\u001b[0m\u001b[0;34m)\u001b[0m\u001b[0;34m\u001b[0m\u001b[0;34m\u001b[0m\u001b[0m\n\u001b[0m\u001b[1;32m    289\u001b[0m         \u001b[0mself\u001b[0m\u001b[0;34m.\u001b[0m\u001b[0mproperty_set\u001b[0m \u001b[0;34m=\u001b[0m \u001b[0mrunning_passmanager\u001b[0m\u001b[0;34m.\u001b[0m\u001b[0mproperty_set\u001b[0m\u001b[0;34m\u001b[0m\u001b[0;34m\u001b[0m\u001b[0m\n\u001b[1;32m    290\u001b[0m         \u001b[0;32mreturn\u001b[0m \u001b[0mresult\u001b[0m\u001b[0;34m\u001b[0m\u001b[0;34m\u001b[0m\u001b[0m\n",
      "\u001b[0;32m~/Library/Python/3.8/lib/python/site-packages/qiskit/transpiler/runningpassmanager.py\u001b[0m in \u001b[0;36mrun\u001b[0;34m(***failed resolving arguments***)\u001b[0m\n\u001b[1;32m    111\u001b[0m         \u001b[0;32mfor\u001b[0m \u001b[0mpassset\u001b[0m \u001b[0;32min\u001b[0m \u001b[0mself\u001b[0m\u001b[0;34m.\u001b[0m\u001b[0mworking_list\u001b[0m\u001b[0;34m:\u001b[0m\u001b[0;34m\u001b[0m\u001b[0;34m\u001b[0m\u001b[0m\n\u001b[1;32m    112\u001b[0m             \u001b[0;32mfor\u001b[0m \u001b[0mpass_\u001b[0m \u001b[0;32min\u001b[0m \u001b[0mpassset\u001b[0m\u001b[0;34m:\u001b[0m\u001b[0;34m\u001b[0m\u001b[0;34m\u001b[0m\u001b[0m\n\u001b[0;32m--> 113\u001b[0;31m                 \u001b[0mdag\u001b[0m \u001b[0;34m=\u001b[0m \u001b[0mself\u001b[0m\u001b[0;34m.\u001b[0m\u001b[0m_do_pass\u001b[0m\u001b[0;34m(\u001b[0m\u001b[0mpass_\u001b[0m\u001b[0;34m,\u001b[0m \u001b[0mdag\u001b[0m\u001b[0;34m,\u001b[0m \u001b[0mpassset\u001b[0m\u001b[0;34m.\u001b[0m\u001b[0moptions\u001b[0m\u001b[0;34m)\u001b[0m\u001b[0;34m\u001b[0m\u001b[0;34m\u001b[0m\u001b[0m\n\u001b[0m\u001b[1;32m    114\u001b[0m \u001b[0;34m\u001b[0m\u001b[0m\n\u001b[1;32m    115\u001b[0m         \u001b[0mcircuit\u001b[0m \u001b[0;34m=\u001b[0m \u001b[0mdag_to_circuit\u001b[0m\u001b[0;34m(\u001b[0m\u001b[0mdag\u001b[0m\u001b[0;34m)\u001b[0m\u001b[0;34m\u001b[0m\u001b[0;34m\u001b[0m\u001b[0m\n",
      "\u001b[0;32m~/Library/Python/3.8/lib/python/site-packages/qiskit/transpiler/runningpassmanager.py\u001b[0m in \u001b[0;36m_do_pass\u001b[0;34m(self, pass_, dag, options)\u001b[0m\n\u001b[1;32m    142\u001b[0m         \u001b[0;31m# Run the pass itself, if not already run\u001b[0m\u001b[0;34m\u001b[0m\u001b[0;34m\u001b[0m\u001b[0;34m\u001b[0m\u001b[0m\n\u001b[1;32m    143\u001b[0m         \u001b[0;32mif\u001b[0m \u001b[0mpass_\u001b[0m \u001b[0;32mnot\u001b[0m \u001b[0;32min\u001b[0m \u001b[0mself\u001b[0m\u001b[0;34m.\u001b[0m\u001b[0mvalid_passes\u001b[0m\u001b[0;34m:\u001b[0m\u001b[0;34m\u001b[0m\u001b[0;34m\u001b[0m\u001b[0m\n\u001b[0;32m--> 144\u001b[0;31m             \u001b[0mdag\u001b[0m \u001b[0;34m=\u001b[0m \u001b[0mself\u001b[0m\u001b[0;34m.\u001b[0m\u001b[0m_run_this_pass\u001b[0m\u001b[0;34m(\u001b[0m\u001b[0mpass_\u001b[0m\u001b[0;34m,\u001b[0m \u001b[0mdag\u001b[0m\u001b[0;34m)\u001b[0m\u001b[0;34m\u001b[0m\u001b[0;34m\u001b[0m\u001b[0m\n\u001b[0m\u001b[1;32m    145\u001b[0m \u001b[0;34m\u001b[0m\u001b[0m\n\u001b[1;32m    146\u001b[0m             \u001b[0;31m# update the valid_passes property\u001b[0m\u001b[0;34m\u001b[0m\u001b[0;34m\u001b[0m\u001b[0;34m\u001b[0m\u001b[0m\n",
      "\u001b[0;32m~/Library/Python/3.8/lib/python/site-packages/qiskit/transpiler/runningpassmanager.py\u001b[0m in \u001b[0;36m_run_this_pass\u001b[0;34m(self, pass_, dag)\u001b[0m\n\u001b[1;32m    154\u001b[0m             \u001b[0;31m# Measure time if we have a callback or logging set\u001b[0m\u001b[0;34m\u001b[0m\u001b[0;34m\u001b[0m\u001b[0;34m\u001b[0m\u001b[0m\n\u001b[1;32m    155\u001b[0m             \u001b[0mstart_time\u001b[0m \u001b[0;34m=\u001b[0m \u001b[0mtime\u001b[0m\u001b[0;34m(\u001b[0m\u001b[0;34m)\u001b[0m\u001b[0;34m\u001b[0m\u001b[0;34m\u001b[0m\u001b[0m\n\u001b[0;32m--> 156\u001b[0;31m             \u001b[0mnew_dag\u001b[0m \u001b[0;34m=\u001b[0m \u001b[0mpass_\u001b[0m\u001b[0;34m.\u001b[0m\u001b[0mrun\u001b[0m\u001b[0;34m(\u001b[0m\u001b[0mdag\u001b[0m\u001b[0;34m)\u001b[0m\u001b[0;34m\u001b[0m\u001b[0;34m\u001b[0m\u001b[0m\n\u001b[0m\u001b[1;32m    157\u001b[0m             \u001b[0mend_time\u001b[0m \u001b[0;34m=\u001b[0m \u001b[0mtime\u001b[0m\u001b[0;34m(\u001b[0m\u001b[0;34m)\u001b[0m\u001b[0;34m\u001b[0m\u001b[0;34m\u001b[0m\u001b[0m\n\u001b[1;32m    158\u001b[0m             \u001b[0mrun_time\u001b[0m \u001b[0;34m=\u001b[0m \u001b[0mend_time\u001b[0m \u001b[0;34m-\u001b[0m \u001b[0mstart_time\u001b[0m\u001b[0;34m\u001b[0m\u001b[0;34m\u001b[0m\u001b[0m\n",
      "\u001b[0;32m~/Library/Python/3.8/lib/python/site-packages/qiskit/transpiler/passes/basis/unroller.py\u001b[0m in \u001b[0;36mrun\u001b[0;34m(self, dag)\u001b[0m\n\u001b[1;32m     95\u001b[0m                                       (str(self.basis), node.op.name))\n\u001b[1;32m     96\u001b[0m                 \u001b[0mdecomposition\u001b[0m \u001b[0;34m=\u001b[0m \u001b[0mcircuit_to_dag\u001b[0m\u001b[0;34m(\u001b[0m\u001b[0mnode\u001b[0m\u001b[0;34m.\u001b[0m\u001b[0mop\u001b[0m\u001b[0;34m.\u001b[0m\u001b[0mdefinition\u001b[0m\u001b[0;34m)\u001b[0m\u001b[0;34m\u001b[0m\u001b[0;34m\u001b[0m\u001b[0m\n\u001b[0;32m---> 97\u001b[0;31m                 \u001b[0munrolled_dag\u001b[0m \u001b[0;34m=\u001b[0m \u001b[0mself\u001b[0m\u001b[0;34m.\u001b[0m\u001b[0mrun\u001b[0m\u001b[0;34m(\u001b[0m\u001b[0mdecomposition\u001b[0m\u001b[0;34m)\u001b[0m  \u001b[0;31m# recursively unroll ops\u001b[0m\u001b[0;34m\u001b[0m\u001b[0;34m\u001b[0m\u001b[0m\n\u001b[0m\u001b[1;32m     98\u001b[0m                 \u001b[0mdag\u001b[0m\u001b[0;34m.\u001b[0m\u001b[0msubstitute_node_with_dag\u001b[0m\u001b[0;34m(\u001b[0m\u001b[0mnode\u001b[0m\u001b[0;34m,\u001b[0m \u001b[0munrolled_dag\u001b[0m\u001b[0;34m)\u001b[0m\u001b[0;34m\u001b[0m\u001b[0;34m\u001b[0m\u001b[0m\n\u001b[1;32m     99\u001b[0m         \u001b[0;32mreturn\u001b[0m \u001b[0mdag\u001b[0m\u001b[0;34m\u001b[0m\u001b[0;34m\u001b[0m\u001b[0m\n",
      "\u001b[0;32m~/Library/Python/3.8/lib/python/site-packages/qiskit/transpiler/passes/basis/unroller.py\u001b[0m in \u001b[0;36mrun\u001b[0;34m(self, dag)\u001b[0m\n\u001b[1;32m     83\u001b[0m                     \u001b[0mrule\u001b[0m \u001b[0;34m=\u001b[0m \u001b[0mrule\u001b[0m\u001b[0;34m[\u001b[0m\u001b[0;36m0\u001b[0m\u001b[0;34m]\u001b[0m\u001b[0;34m[\u001b[0m\u001b[0;36m0\u001b[0m\u001b[0;34m]\u001b[0m\u001b[0;34m.\u001b[0m\u001b[0mdefinition\u001b[0m\u001b[0;34m.\u001b[0m\u001b[0mdata\u001b[0m\u001b[0;34m\u001b[0m\u001b[0;34m\u001b[0m\u001b[0m\n\u001b[1;32m     84\u001b[0m                 \u001b[0;32mexcept\u001b[0m \u001b[0;34m(\u001b[0m\u001b[0mTypeError\u001b[0m\u001b[0;34m,\u001b[0m \u001b[0mAttributeError\u001b[0m\u001b[0;34m)\u001b[0m \u001b[0;32mas\u001b[0m \u001b[0merr\u001b[0m\u001b[0;34m:\u001b[0m\u001b[0;34m\u001b[0m\u001b[0;34m\u001b[0m\u001b[0m\n\u001b[0;32m---> 85\u001b[0;31m                     \u001b[0;32mraise\u001b[0m \u001b[0mQiskitError\u001b[0m\u001b[0;34m(\u001b[0m\u001b[0;34m'Error decomposing node {}: {}'\u001b[0m\u001b[0;34m.\u001b[0m\u001b[0mformat\u001b[0m\u001b[0;34m(\u001b[0m\u001b[0mnode\u001b[0m\u001b[0;34m.\u001b[0m\u001b[0mname\u001b[0m\u001b[0;34m,\u001b[0m \u001b[0merr\u001b[0m\u001b[0;34m)\u001b[0m\u001b[0;34m)\u001b[0m\u001b[0;34m\u001b[0m\u001b[0;34m\u001b[0m\u001b[0m\n\u001b[0m\u001b[1;32m     86\u001b[0m \u001b[0;34m\u001b[0m\u001b[0m\n\u001b[1;32m     87\u001b[0m             \u001b[0;32melse\u001b[0m\u001b[0;34m:\u001b[0m\u001b[0;34m\u001b[0m\u001b[0;34m\u001b[0m\u001b[0m\n",
      "\u001b[0;31mQiskitError\u001b[0m: \"Error decomposing node p: 'NoneType' object has no attribute 'data'\""
     ]
    }
   ],
   "source": [
    "circuit_cost(qc)"
   ]
  },
  {
   "cell_type": "markdown",
   "metadata": {},
   "source": [
    "### Next Steps? \n",
    "\n",
    "Now that we've learnt this algorithm, what types of problems can we tackle? The best way to learn this is by trying it out yourself. Here are two challenges which are based on Grover's algorithm: \n",
    "\n",
    "* [Qiskit Challenge 2019](https://github.com/quantum-challenge/2019/blob/master/problems/final/Final_en.ipynb)  <- My personal favourite and the competition that got me into quantum computing    \n",
    "* [Qiskit Challenge 2020](https://github.com/qiskit-community/IBMQuantumChallenge2020)\n",
    "\n",
    "Good luck!\n",
    "\n",
    "Here are a few resources to help you out with the problems: \n",
    "* [Qiskit Textbook - Grover's algorithm](https://qiskit.org/textbook/ch-algorithms/grover.html)   \n",
    "* [Textbook chapter 6.4] - Quantum Computing for Computer Scientists (Noson S. Yanofsky, Mirco A. Mannucci)   \n",
    "* Each of these challenges have their own reading material in their respective Github repos as well \n",
    "\n",
    "Once you've solved these problems and are now comfortable with one specific algorithm its time to learn more algorithms from the Qiskit Textbook and possibly start a small project of your own! \n",
    "\n",
    "If you're interested in understanding how to design and build qubits at the most intricate level of hardware, delving into the newly open-sourced [**Qiskit Metal**](https://qiskit.org/metal/) would be the way to go. \n",
    "\n",
    "If you would like to understand how to interact with these qubits at the level of pulses and understand how gates are actually applied, you can read up on **Qiskit Pulse** from [Chapter 6.1 of the Qiskit Textbook](https://qiskit.org/textbook/ch-quantum-hardware/calibrating-qubits-pulse.html). "
   ]
  }
 ],
 "metadata": {
  "kernelspec": {
   "display_name": "Python 3",
   "language": "python",
   "name": "python3"
  },
  "language_info": {
   "codemirror_mode": {
    "name": "ipython",
    "version": 3
   },
   "file_extension": ".py",
   "mimetype": "text/x-python",
   "name": "python",
   "nbconvert_exporter": "python",
   "pygments_lexer": "ipython3",
   "version": "3.8.2"
  }
 },
 "nbformat": 4,
 "nbformat_minor": 4
}
